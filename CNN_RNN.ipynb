{
  "nbformat": 4,
  "nbformat_minor": 0,
  "metadata": {
    "colab": {
      "name": "CNN_RNN.ipynb",
      "provenance": [],
      "machine_shape": "hm"
    },
    "kernelspec": {
      "name": "python3",
      "display_name": "Python 3"
    },
    "accelerator": "TPU"
  },
  "cells": [
    {
      "cell_type": "code",
      "metadata": {
        "id": "EbZenXatqLrV"
      },
      "source": [
        "import numpy as np\n",
        "import os\n",
        "import PIL\n",
        "import PIL.Image\n",
        "import tensorflow as tf\n",
        "import tensorflow_datasets as tfds\n",
        "import pathlib\n",
        "from tensorflow.keras import layers\n",
        "from google.colab import drive"
      ],
      "execution_count": 20,
      "outputs": []
    },
    {
      "cell_type": "code",
      "metadata": {
        "id": "6KQj7fhn6v3G"
      },
      "source": [
        "drive.flush_and_unmount()\n",
        "drive.mount('/content/gdrive')\n",
        "#drive.mount('/content/gdrive', force_remount=True)"
      ],
      "execution_count": null,
      "outputs": []
    },
    {
      "cell_type": "code",
      "metadata": {
        "id": "S_3oznL7YXSQ"
      },
      "source": [
        "# check number of files in each directory\n",
        "\n",
        "import glob\n",
        "\n",
        "classnames = ['A', 'B', 'C', 'D', 'E', 'F', 'G', 'H', 'I', 'J', 'K', 'L', 'M', 'N', 'O', 'P', 'Q', 'R', 'S', 'T', 'U', 'V', 'W', 'X', 'Y', 'Z', 'del', 'nothing', 'space']\n",
        "totalcount = 0\n",
        "for name in classnames:\n",
        "  data_files = glob.glob(\"/content/gdrive/My Drive/Capstone/Dataset/combined_set/\" + name + \"/*\")\n",
        "  count = 0\n",
        "  for data_file in data_files:\n",
        "    count += 1\n",
        "    totalcount += 1\n",
        "  print(name + \":\" + str(count))\n",
        "print(\"total number of images:\" + str(totalcount))"
      ],
      "execution_count": null,
      "outputs": []
    },
    {
      "cell_type": "code",
      "metadata": {
        "id": "C11rm5RhqCwD"
      },
      "source": [
        "data_dir=\"/content/gdrive/My Drive/Capstone/Dataset/master_training_set\"\n",
        "data_dir = pathlib.Path(data_dir)"
      ],
      "execution_count": null,
      "outputs": []
    },
    {
      "cell_type": "code",
      "metadata": {
        "id": "F9HlC_cI1c7K"
      },
      "source": [
        "batch_size = 32\n",
        "img_height = 200\n",
        "img_width = 200"
      ],
      "execution_count": null,
      "outputs": []
    },
    {
      "cell_type": "code",
      "metadata": {
        "id": "apRxKjFg2WIs"
      },
      "source": [
        "train_ds = tf.keras.preprocessing.image_dataset_from_directory(\n",
        "  data_dir,\n",
        "  validation_split=0.2,\n",
        "  subset=\"training\",\n",
        "  seed=123,\n",
        "  image_size=(img_height, img_width),\n",
        "  batch_size=batch_size)"
      ],
      "execution_count": null,
      "outputs": []
    },
    {
      "cell_type": "code",
      "metadata": {
        "id": "A9Mp_O8A2aaf"
      },
      "source": [
        "val_ds = tf.keras.preprocessing.image_dataset_from_directory(\n",
        "  data_dir,\n",
        "  validation_split=0.2,\n",
        "  subset=\"validation\",\n",
        "  seed=123,\n",
        "  image_size=(img_height, img_width),\n",
        "  batch_size=batch_size)"
      ],
      "execution_count": null,
      "outputs": []
    },
    {
      "cell_type": "code",
      "metadata": {
        "id": "4_5TEDMa2xth"
      },
      "source": [
        "class_names = train_ds.class_names\n",
        "print(class_names)"
      ],
      "execution_count": null,
      "outputs": []
    },
    {
      "cell_type": "code",
      "metadata": {
        "id": "MZEj-n0X4fgC"
      },
      "source": [
        "normalization_layer = tf.keras.layers.experimental.preprocessing.Rescaling(1./255)"
      ],
      "execution_count": null,
      "outputs": []
    },
    {
      "cell_type": "code",
      "metadata": {
        "id": "g7FkueH35WQ2"
      },
      "source": [
        "AUTOTUNE = tf.data.experimental.AUTOTUNE\n",
        "\n",
        "train_ds = train_ds.cache().prefetch(buffer_size=AUTOTUNE)\n",
        "val_ds = val_ds.cache().prefetch(buffer_size=AUTOTUNE)"
      ],
      "execution_count": null,
      "outputs": []
    },
    {
      "cell_type": "code",
      "metadata": {
        "id": "mMmfr2Qe5aAD"
      },
      "source": [
        "num_classes = 2\n",
        "\n",
        "model = tf.keras.Sequential([\n",
        "  layers.experimental.preprocessing.Rescaling(1./255),\n",
        "  layers.Conv2D(32, 3, activation='relu'),\n",
        "  layers.MaxPooling2D(),\n",
        "  layers.Conv2D(32, 3, activation='relu'),\n",
        "  layers.MaxPooling2D(),\n",
        "  layers.Conv2D(32, 3, activation='relu'),\n",
        "  layers.MaxPooling2D(),\n",
        "  layers.Flatten(),\n",
        "  layers.Dense(128, activation='relu'),\n",
        "  layers.Dense(num_classes)\n",
        "])"
      ],
      "execution_count": null,
      "outputs": []
    },
    {
      "cell_type": "code",
      "metadata": {
        "id": "GZP7wb9c9zl_"
      },
      "source": [
        "model.compile(\n",
        "  optimizer='adam',\n",
        "  loss=tf.losses.SparseCategoricalCrossentropy(from_logits=True),\n",
        "  metrics=['accuracy'])"
      ],
      "execution_count": null,
      "outputs": []
    },
    {
      "cell_type": "code",
      "metadata": {
        "id": "Mk_pLFwx92UF"
      },
      "source": [
        "model.fit(\n",
        "  train_ds,\n",
        "  validation_data=val_ds,\n",
        "  epochs=3\n",
        ")"
      ],
      "execution_count": null,
      "outputs": []
    },
    {
      "cell_type": "code",
      "metadata": {
        "id": "_Ek_pMgIC3Z5"
      },
      "source": [
        "test_dir=\"/content/gdrive/My Drive/Capstone/Dataset/Jing\"\n",
        "test_dir = pathlib.Path(test_dir)\n",
        "test_ds = tf.keras.preprocessing.image_dataset_from_directory(\n",
        "  test_dir,\n",
        "  image_size=(img_height, img_width),\n",
        "  batch_size=batch_size)"
      ],
      "execution_count": null,
      "outputs": []
    },
    {
      "cell_type": "code",
      "metadata": {
        "id": "IjInTfx7DuOG"
      },
      "source": [
        "test_loss, test_acc = model.evaluate(test_ds, verbose=1)"
      ],
      "execution_count": null,
      "outputs": []
    },
    {
      "cell_type": "code",
      "metadata": {
        "id": "ec4Svl7IgvxU",
        "outputId": "b282c68a-25b5-4ffe-be79-3af7ed6b0438",
        "colab": {
          "base_uri": "https://localhost:8080/"
        }
      },
      "source": [
        "#data_dir= \"/content/gdrive/My Drive/Capstone/Dataset/master_training_set\"\n",
        "data_dir = \"/content/gdrive/My Drive/Capstone/Dataset/combined_set\"\n",
        "data_dir = pathlib.Path(data_dir)\n",
        "\n",
        "batch_size = 32\n",
        "img_height = 200\n",
        "img_width = 200\n",
        "\n",
        "train_ds = tf.keras.preprocessing.image_dataset_from_directory(\n",
        "  data_dir,\n",
        "  validation_split=0.2,\n",
        "  subset=\"training\",\n",
        "  seed=123,\n",
        "  image_size=(img_height, img_width),\n",
        "  batch_size=batch_size,\n",
        "  follow_links=True)\n",
        "\n",
        "val_ds = tf.keras.preprocessing.image_dataset_from_directory(\n",
        "  data_dir,\n",
        "  validation_split=0.2,\n",
        "  subset=\"validation\",\n",
        "  seed=123,\n",
        "  image_size=(img_height, img_width),\n",
        "  batch_size=batch_size,\n",
        "  follow_links=True)\n",
        "class_names = train_ds.class_names\n",
        "\n",
        "print(class_names)\n",
        "\n",
        "normalization_layer = tf.keras.layers.experimental.preprocessing.Rescaling(1./255)\n",
        "\n",
        "# AUTOTUNE in keras is -1 as a constant\n",
        "# AUTOTUNE = tf.data.experimental.AUTOTUNE\n",
        "# train_ds = train_ds.cache().prefetch(buffer_size=AUTOTUNE)\n",
        "# val_ds = val_ds.cache().prefetch(buffer_size=AUTOTUNE)\n",
        "\n",
        "num_classes = 29\n",
        "model = tf.keras.Sequential([\n",
        "  layers.experimental.preprocessing.Rescaling(1./255),\n",
        "  layers.Conv2D(32, 3, activation='relu'),\n",
        "  layers.MaxPooling2D(),\n",
        "  layers.Conv2D(32, 3, activation='relu'),\n",
        "  layers.MaxPooling2D(),\n",
        "  layers.Conv2D(32, 3, activation='relu'),\n",
        "  layers.MaxPooling2D(),\n",
        "  layers.Flatten(),\n",
        "  layers.Dense(128, activation='relu'),\n",
        "  layers.Dense(num_classes)\n",
        "])\n",
        "\n",
        "model.compile(\n",
        "  optimizer='adam',\n",
        "  loss=tf.losses.SparseCategoricalCrossentropy(from_logits=True),\n",
        "  metrics=['accuracy'])\n",
        "\n",
        "model.fit(\n",
        "  train_ds,\n",
        "  validation_data=val_ds,\n",
        "  epochs=5\n",
        ")\n",
        "\n",
        "model.save(\"gdrive/My Drive/Capstone/models/nov_1_2020_2\")\n",
        "\n",
        "# Note: something is wrong with saving the model!\n",
        "# https://www.tensorflow.org/guide/saved_model\n",
        "\n",
        "# test_dir=\"/content/gdrive/My Drive/Capstone/Dataset/Jing\"\n",
        "# test_dir = pathlib.Path(test_dir)\n",
        "# test_ds = tf.keras.preprocessing.image_dataset_from_directory(\n",
        "#   test_dir,\n",
        "#   image_size=(img_height, img_width),\n",
        "#   batch_size=batch_size)\n",
        "# test_loss, test_acc = model.evaluate(test_ds, verbose=1)"
      ],
      "execution_count": 22,
      "outputs": [
        {
          "output_type": "stream",
          "text": [
            "Found 17707 files belonging to 29 classes.\n",
            "Using 14166 files for training.\n",
            "Found 17707 files belonging to 29 classes.\n",
            "Using 3541 files for validation.\n",
            "['A', 'B', 'C', 'D', 'E', 'F', 'G', 'H', 'I', 'J', 'K', 'L', 'M', 'N', 'O', 'P', 'Q', 'R', 'S', 'T', 'U', 'V', 'W', 'X', 'Y', 'Z', 'del', 'nothing', 'space']\n",
            "Epoch 1/5\n",
            "443/443 [==============================] - 186s 420ms/step - loss: 2.0788 - accuracy: 0.4390 - val_loss: 0.7323 - val_accuracy: 0.8105\n",
            "Epoch 2/5\n",
            "443/443 [==============================] - 175s 396ms/step - loss: 0.3684 - accuracy: 0.9007 - val_loss: 0.3245 - val_accuracy: 0.9040\n",
            "Epoch 3/5\n",
            "443/443 [==============================] - 171s 385ms/step - loss: 0.1246 - accuracy: 0.9668 - val_loss: 0.3066 - val_accuracy: 0.9161\n",
            "Epoch 4/5\n",
            "443/443 [==============================] - 178s 401ms/step - loss: 0.0573 - accuracy: 0.9841 - val_loss: 0.3226 - val_accuracy: 0.9266\n",
            "Epoch 5/5\n",
            "443/443 [==============================] - 184s 415ms/step - loss: 0.0358 - accuracy: 0.9907 - val_loss: 0.3136 - val_accuracy: 0.9308\n",
            "INFO:tensorflow:Assets written to: gdrive/My Drive/Capstone/models/nov_1_2020_2/assets\n"
          ],
          "name": "stdout"
        }
      ]
    },
    {
      "cell_type": "code",
      "metadata": {
        "id": "S3glZBL-rwZM",
        "outputId": "13f05594-03c2-4ba2-c3e7-69da2b009f8f",
        "colab": {
          "base_uri": "https://localhost:8080/"
        }
      },
      "source": [
        "# Model fit -> evaluate -> save -> load: consistently produces ~2-4% accuracy\n",
        "eval_model = tf.keras.models.load_model(\"/content/gdrive/My Drive/Capstone/models/nov_1_2020_2\")\n",
        "test_loss, test_acc = eval_model.evaluate(val_ds, verbose=1)"
      ],
      "execution_count": 28,
      "outputs": [
        {
          "output_type": "stream",
          "text": [
            "111/111 [==============================] - 21s 189ms/step - loss: 0.3136 - accuracy: 0.0370\n"
          ],
          "name": "stdout"
        }
      ]
    },
    {
      "cell_type": "code",
      "metadata": {
        "id": "tq_dCzeohsti",
        "outputId": "8a41fe39-2064-4369-bba5-7bfc7adbf186",
        "colab": {
          "base_uri": "https://localhost:8080/"
        }
      },
      "source": [
        "# Model fit -> evaluate: produces good accuracy on results\n",
        "test_loss, test_acc = model.evaluate(val_ds, verbose=1)"
      ],
      "execution_count": 36,
      "outputs": [
        {
          "output_type": "stream",
          "text": [
            "111/111 [==============================] - 14s 123ms/step - loss: 0.3136 - accuracy: 0.9308\n"
          ],
          "name": "stdout"
        }
      ]
    }
  ]
}