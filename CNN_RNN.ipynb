{
  "nbformat": 4,
  "nbformat_minor": 0,
  "metadata": {
    "colab": {
      "name": "CNN_RNN.ipynb",
      "provenance": [],
      "machine_shape": "hm"
    },
    "kernelspec": {
      "name": "python3",
      "display_name": "Python 3"
    },
    "accelerator": "TPU"
  },
  "cells": [
    {
      "cell_type": "code",
      "metadata": {
        "id": "EbZenXatqLrV"
      },
      "source": [
        "import numpy as np\n",
        "import os\n",
        "import PIL\n",
        "import PIL.Image\n",
        "import tensorflow as tf\n",
        "import tensorflow_datasets as tfds\n",
        "import pathlib\n",
        "from tensorflow.keras import layers\n",
        "from google.colab import drive"
      ],
      "execution_count": 2,
      "outputs": []
    },
    {
      "cell_type": "code",
      "metadata": {
        "id": "6KQj7fhn6v3G",
        "colab": {
          "base_uri": "https://localhost:8080/"
        },
        "outputId": "b1c469ad-db19-4fb8-e3bc-0a74a6bdcec2"
      },
      "source": [
        "drive.flush_and_unmount()\n",
        "drive.mount('/content/gdrive')\n",
        "#drive.mount('/content/gdrive', force_remount=True)"
      ],
      "execution_count": 3,
      "outputs": [
        {
          "output_type": "stream",
          "text": [
            "Drive not mounted, so nothing to flush and unmount.\n",
            "Mounted at /content/gdrive\n"
          ],
          "name": "stdout"
        }
      ]
    },
    {
      "cell_type": "code",
      "metadata": {
        "id": "S_3oznL7YXSQ"
      },
      "source": [
        "# check number of files in each directory\n",
        "\n",
        "import glob\n",
        "\n",
        "classnames = ['A', 'B', 'C', 'D', 'E', 'F', 'G', 'H', 'I', 'J', 'K', 'L', 'M', 'N', 'O', 'P', 'Q', 'R', 'S', 'T', 'U', 'V', 'W', 'X', 'Y', 'Z', 'del', 'nothing', 'space']\n",
        "totalcount = 0\n",
        "for name in classnames:\n",
        "  data_files = glob.glob(\"/content/gdrive/My Drive/Capstone/Dataset/demo_training_set/\" + name + \"/*\")\n",
        "  count = 0\n",
        "  for data_file in data_files:\n",
        "    count += 1\n",
        "    totalcount += 1\n",
        "  print(name + \":\" + str(count))\n",
        "print(\"total number of images:\" + str(totalcount))"
      ],
      "execution_count": null,
      "outputs": []
    },
    {
      "cell_type": "code",
      "metadata": {
        "id": "C11rm5RhqCwD"
      },
      "source": [
        "data_dir=\"/content/gdrive/My Drive/Capstone/Dataset/master_training_set\"\n",
        "data_dir = pathlib.Path(data_dir)"
      ],
      "execution_count": null,
      "outputs": []
    },
    {
      "cell_type": "code",
      "metadata": {
        "id": "F9HlC_cI1c7K"
      },
      "source": [
        "batch_size = 32\n",
        "img_height = 200\n",
        "img_width = 200"
      ],
      "execution_count": 5,
      "outputs": []
    },
    {
      "cell_type": "code",
      "metadata": {
        "id": "apRxKjFg2WIs"
      },
      "source": [
        "train_ds = tf.keras.preprocessing.image_dataset_from_directory(\n",
        "  data_dir,\n",
        "  validation_split=0.2,\n",
        "  subset=\"training\",\n",
        "  seed=123,\n",
        "  image_size=(img_height, img_width),\n",
        "  batch_size=batch_size)"
      ],
      "execution_count": null,
      "outputs": []
    },
    {
      "cell_type": "code",
      "metadata": {
        "id": "A9Mp_O8A2aaf"
      },
      "source": [
        "val_ds = tf.keras.preprocessing.image_dataset_from_directory(\n",
        "  data_dir,\n",
        "  validation_split=0.2,\n",
        "  subset=\"validation\",\n",
        "  seed=123,\n",
        "  image_size=(img_height, img_width),\n",
        "  batch_size=batch_size)"
      ],
      "execution_count": null,
      "outputs": []
    },
    {
      "cell_type": "code",
      "metadata": {
        "id": "4_5TEDMa2xth"
      },
      "source": [
        "class_names = train_ds.class_names\n",
        "print(class_names)"
      ],
      "execution_count": null,
      "outputs": []
    },
    {
      "cell_type": "code",
      "metadata": {
        "id": "MZEj-n0X4fgC"
      },
      "source": [
        "normalization_layer = tf.keras.layers.experimental.preprocessing.Rescaling(1./255)"
      ],
      "execution_count": null,
      "outputs": []
    },
    {
      "cell_type": "code",
      "metadata": {
        "id": "g7FkueH35WQ2"
      },
      "source": [
        "AUTOTUNE = tf.data.experimental.AUTOTUNE\n",
        "\n",
        "train_ds = train_ds.cache().prefetch(buffer_size=AUTOTUNE)\n",
        "val_ds = val_ds.cache().prefetch(buffer_size=AUTOTUNE)"
      ],
      "execution_count": null,
      "outputs": []
    },
    {
      "cell_type": "code",
      "metadata": {
        "id": "mMmfr2Qe5aAD"
      },
      "source": [
        "num_classes = 2\n",
        "\n",
        "model = tf.keras.Sequential([\n",
        "  layers.experimental.preprocessing.Rescaling(1./255),\n",
        "  layers.Conv2D(32, 3, activation='relu'),\n",
        "  layers.MaxPooling2D(),\n",
        "  layers.Conv2D(32, 3, activation='relu'),\n",
        "  layers.MaxPooling2D(),\n",
        "  layers.Conv2D(32, 3, activation='relu'),\n",
        "  layers.MaxPooling2D(),\n",
        "  layers.Flatten(),\n",
        "  layers.Dense(128, activation='relu'),\n",
        "  layers.Dense(num_classes)\n",
        "])"
      ],
      "execution_count": null,
      "outputs": []
    },
    {
      "cell_type": "code",
      "metadata": {
        "id": "GZP7wb9c9zl_"
      },
      "source": [
        "model.compile(\n",
        "  optimizer='adam',\n",
        "  loss=tf.losses.SparseCategoricalCrossentropy(from_logits=True),\n",
        "  metrics=['accuracy'])"
      ],
      "execution_count": null,
      "outputs": []
    },
    {
      "cell_type": "code",
      "metadata": {
        "id": "Mk_pLFwx92UF"
      },
      "source": [
        "model.fit(\n",
        "  train_ds,\n",
        "  validation_data=val_ds,\n",
        "  epochs=3\n",
        ")"
      ],
      "execution_count": null,
      "outputs": []
    },
    {
      "cell_type": "code",
      "metadata": {
        "id": "_Ek_pMgIC3Z5"
      },
      "source": [
        "test_dir=\"/content/gdrive/My Drive/Capstone/Dataset/Jing\"\n",
        "test_dir = pathlib.Path(test_dir)\n",
        "test_ds = tf.keras.preprocessing.image_dataset_from_directory(\n",
        "  test_dir,\n",
        "  image_size=(img_height, img_width),\n",
        "  batch_size=batch_size)"
      ],
      "execution_count": null,
      "outputs": []
    },
    {
      "cell_type": "code",
      "metadata": {
        "id": "IjInTfx7DuOG"
      },
      "source": [
        "test_loss, test_acc = model.evaluate(test_ds, verbose=1)"
      ],
      "execution_count": null,
      "outputs": []
    },
    {
      "cell_type": "code",
      "metadata": {
        "id": "ec4Svl7IgvxU",
        "colab": {
          "base_uri": "https://localhost:8080/"
        },
        "outputId": "5cd99c34-a695-4fb3-9585-c17229cd9f77"
      },
      "source": [
        "data_dir = \"/content/gdrive/My Drive/Capstone/Dataset/demo_training_set\"\n",
        "data_dir = pathlib.Path(data_dir)\n",
        "\n",
        "batch_size = 32\n",
        "img_height = 200\n",
        "img_width = 200\n",
        "\n",
        "train_ds = tf.keras.preprocessing.image_dataset_from_directory(\n",
        "  data_dir,\n",
        "  validation_split=0.2,\n",
        "  subset=\"training\",\n",
        "  seed=123,\n",
        "  image_size=(img_height, img_width),\n",
        "  batch_size=batch_size,\n",
        "  follow_links=True)\n",
        "\n",
        "val_ds = tf.keras.preprocessing.image_dataset_from_directory(\n",
        "  data_dir,\n",
        "  validation_split=0.2,\n",
        "  subset=\"validation\",\n",
        "  seed=123,\n",
        "  image_size=(img_height, img_width),\n",
        "  batch_size=batch_size,\n",
        "  follow_links=True)\n",
        "class_names = train_ds.class_names\n",
        "\n",
        "print(class_names)\n",
        "\n",
        "normalization_layer = tf.keras.layers.experimental.preprocessing.Rescaling(1./255)\n",
        "\n",
        "# AUTOTUNE in keras is -1 as a constant\n",
        "# AUTOTUNE = tf.data.experimental.AUTOTUNE\n",
        "# train_ds = train_ds.cache().prefetch(buffer_size=AUTOTUNE)\n",
        "# val_ds = val_ds.cache().prefetch(buffer_size=AUTOTUNE)\n",
        "\n",
        "num_classes = 29\n",
        "model = tf.keras.Sequential([\n",
        "  layers.experimental.preprocessing.Rescaling(1./255),\n",
        "  layers.Conv2D(32, 3, activation='relu'),\n",
        "  layers.MaxPooling2D(),\n",
        "  layers.Conv2D(32, 3, activation='relu'),\n",
        "  layers.MaxPooling2D(),\n",
        "  layers.Conv2D(32, 3, activation='relu'),\n",
        "  layers.MaxPooling2D(),\n",
        "  layers.Flatten(),\n",
        "  layers.Dense(128, activation='relu'),\n",
        "  layers.Dense(num_classes)\n",
        "])\n",
        "\n",
        "model.compile(\n",
        "  optimizer='adam',\n",
        "  loss=tf.losses.SparseCategoricalCrossentropy(from_logits=True),\n",
        "  metrics=['sparse_categorical_accuracy'])\n",
        "\n",
        "model.fit(\n",
        "  train_ds,\n",
        "  validation_data=val_ds,\n",
        "  epochs=4\n",
        ")\n",
        "\n",
        "model.save(\"gdrive/My Drive/Capstone/models/nov_26_2020\")"
      ],
      "execution_count": null,
      "outputs": [
        {
          "output_type": "stream",
          "text": [
            "Found 26100 files belonging to 29 classes.\n",
            "Using 20880 files for training.\n",
            "Found 26100 files belonging to 29 classes.\n",
            "Using 5220 files for validation.\n",
            "['A', 'B', 'C', 'D', 'E', 'F', 'G', 'H', 'I', 'J', 'K', 'L', 'M', 'N', 'O', 'P', 'Q', 'R', 'S', 'T', 'U', 'V', 'W', 'X', 'Y', 'Z', 'del', 'nothing', 'space']\n",
            "Epoch 1/4\n",
            "653/653 [==============================] - 3807s 6s/step - loss: 1.2236 - sparse_categorical_accuracy: 0.6555 - val_loss: 0.2043 - val_sparse_categorical_accuracy: 0.9402\n",
            "Epoch 2/4\n",
            "653/653 [==============================] - 229s 351ms/step - loss: 0.1101 - sparse_categorical_accuracy: 0.9669 - val_loss: 0.1161 - val_sparse_categorical_accuracy: 0.9653\n",
            "Epoch 3/4\n",
            "653/653 [==============================] - 227s 347ms/step - loss: 0.0497 - sparse_categorical_accuracy: 0.9848 - val_loss: 0.0329 - val_sparse_categorical_accuracy: 0.9879\n",
            "Epoch 4/4\n",
            "653/653 [==============================] - 221s 338ms/step - loss: 0.0431 - sparse_categorical_accuracy: 0.9869 - val_loss: 0.0242 - val_sparse_categorical_accuracy: 0.9935\n",
            "WARNING:tensorflow:From /usr/local/lib/python3.6/dist-packages/tensorflow/python/training/tracking/tracking.py:111: Model.state_updates (from tensorflow.python.keras.engine.training) is deprecated and will be removed in a future version.\n",
            "Instructions for updating:\n",
            "This property should not be used in TensorFlow 2.0, as updates are applied automatically.\n",
            "WARNING:tensorflow:From /usr/local/lib/python3.6/dist-packages/tensorflow/python/training/tracking/tracking.py:111: Layer.updates (from tensorflow.python.keras.engine.base_layer) is deprecated and will be removed in a future version.\n",
            "Instructions for updating:\n",
            "This property should not be used in TensorFlow 2.0, as updates are applied automatically.\n",
            "INFO:tensorflow:Assets written to: gdrive/My Drive/Capstone/models/nov_26_2020/assets\n"
          ],
          "name": "stdout"
        }
      ]
    },
    {
      "cell_type": "code",
      "metadata": {
        "id": "S3glZBL-rwZM",
        "colab": {
          "base_uri": "https://localhost:8080/"
        },
        "outputId": "ff93ff55-6a90-43df-c472-779b5a90d209"
      },
      "source": [
        "# Model fit -> evaluate: produces good accuracy on results\n",
        "test_loss, test_acc = model.evaluate(val_ds, verbose=1)"
      ],
      "execution_count": null,
      "outputs": [
        {
          "output_type": "stream",
          "text": [
            "164/164 [==============================] - 22s 132ms/step - loss: 0.0242 - sparse_categorical_accuracy: 0.9935\n"
          ],
          "name": "stdout"
        }
      ]
    },
    {
      "cell_type": "code",
      "metadata": {
        "id": "uFWgNS6YVrTK",
        "outputId": "144330aa-9e50-4c38-de6c-1d90367f2909",
        "colab": {
          "base_uri": "https://localhost:8080/"
        }
      },
      "source": [
        "batch_size = 32\n",
        "img_height = 200\n",
        "img_width = 200\n",
        "eval_model = tf.keras.models.load_model(\"gdrive/My Drive/Capstone/models/nov_26_2020\")\n",
        "dir = \"/content/gdrive/My Drive/Capstone/Dataset/test_set1\"\n",
        "test_ds = tf.keras.preprocessing.image_dataset_from_directory(\n",
        "  dir,\n",
        "  image_size=(img_height, img_width),\n",
        "  batch_size=batch_size)\n",
        "test_names = test_ds.class_names\n",
        "\n",
        "test_loss, test_acc = eval_model.evaluate(test_ds, verbose=1)"
      ],
      "execution_count": 10,
      "outputs": [
        {
          "output_type": "stream",
          "text": [
            "Found 2900 files belonging to 29 classes.\n",
            "91/91 [==============================] - 17s 186ms/step - loss: 3.9573 - sparse_categorical_accuracy: 0.4314\n"
          ],
          "name": "stdout"
        }
      ]
    },
    {
      "cell_type": "code",
      "metadata": {
        "id": "ShplgldkNrNP",
        "colab": {
          "base_uri": "https://localhost:8080/"
        },
        "outputId": "e5d28d32-ef9f-4000-9b00-71a3fce89b03"
      },
      "source": [
        "eval_model = tf.keras.models.load_model(\"gdrive/My Drive/Capstone/models/nov_26_2020\")\n",
        "dir = \"/content/gdrive/My Drive/Capstone/Dataset/demo_test\"\n",
        "test_ds = tf.keras.preprocessing.image_dataset_from_directory(\n",
        "  dir,\n",
        "  image_size=(img_height, img_width),\n",
        "  batch_size=batch_size)\n",
        "test_names = test_ds.class_names\n",
        "\n",
        "test_loss, test_acc = eval_model.evaluate(test_ds, verbose=1)"
      ],
      "execution_count": 9,
      "outputs": [
        {
          "output_type": "stream",
          "text": [
            "Found 2900 files belonging to 29 classes.\n",
            "91/91 [==============================] - 199s 2s/step - loss: 8.6920 - sparse_categorical_accuracy: 0.3369\n"
          ],
          "name": "stdout"
        }
      ]
    },
    {
      "cell_type": "code",
      "metadata": {
        "id": "Kp9LaYz8TOhn"
      },
      "source": [
        "eval_model = tf.keras.models.load_model(\"gdrive/My Drive/Capstone/models/nov_26_2020\")\n",
        "eval_model.save(\"gdrive/My Drive/Capstone/models/nov_26_2020.h5\")\n",
        "!pip install tensorflowjs\n",
        "!tensorflowjs_converter --input_format=keras \"gdrive/MyDrive/Capstone/models/nov_26_2020.h5\" \"gdrive/MyDrive/Capstone/models/demo_model\""
      ],
      "execution_count": null,
      "outputs": []
    },
    {
      "cell_type": "code",
      "metadata": {
        "id": "ywSnjYj8GwXo"
      },
      "source": [
        "# attempt to train loaded model on additional ASL Alphabet training data\n",
        "model = tf.keras.models.load_model(\"gdrive/My Drive/Capstone/models/nov_6_2020\")\n",
        "\n",
        "asl_alphabet_dir = \"/content/gdrive/My Drive/Capstone/Dataset/ASL Alphabet/asl_alphabet_train/asl_alphabet_train\"\n",
        "asl_alphabet_dir = pathlib.Path(asl_alphabet_dir)\n",
        "\n",
        "batch_size = 32\n",
        "img_height = 200\n",
        "img_width = 200\n",
        "\n",
        "asl_train_ds = tf.keras.preprocessing.image_dataset_from_directory(\n",
        "  asl_alphabet_dir,\n",
        "  validation_split=0.2,\n",
        "  subset=\"training\",\n",
        "  seed=123,\n",
        "  image_size=(img_height, img_width),\n",
        "  batch_size=batch_size,\n",
        "  follow_links=True)\n",
        "\n",
        "asl_val_ds = tf.keras.preprocessing.image_dataset_from_directory(\n",
        "  asl_alphabet_dir,\n",
        "  validation_split=0.2,\n",
        "  subset=\"validation\",\n",
        "  seed=123,\n",
        "  image_size=(img_height, img_width),\n",
        "  batch_size=batch_size,\n",
        "  follow_links=True)\n",
        "class_names = asl_train_ds.class_names\n",
        "\n",
        "model.fit(\n",
        "  asl_train_ds,\n",
        "  validation_data=asl_val_ds,\n",
        "  epochs=5\n",
        ")"
      ],
      "execution_count": null,
      "outputs": []
    },
    {
      "cell_type": "code",
      "metadata": {
        "id": "3oDNuuT-oFim"
      },
      "source": [
        "model.save(\"gdrive/My Drive/Capstone/models/nov_8_2020\")"
      ],
      "execution_count": null,
      "outputs": []
    },
    {
      "cell_type": "code",
      "metadata": {
        "id": "NrXDcn8woNfH"
      },
      "source": [
        "eval_model = tf.keras.models.load_model(\"gdrive/My Drive/Capstone/models/nov_8_2020\")\n",
        "dir = \"/content/gdrive/My Drive/Capstone/Dataset/test_set\"\n",
        "test_ds = tf.keras.preprocessing.image_dataset_from_directory(\n",
        "  dir,\n",
        "  image_size=(img_height, img_width),\n",
        "  batch_size=batch_size)\n",
        "test_names = test_ds.class_names\n",
        "\n",
        "test_loss, test_acc = eval_model.evaluate(test_ds, verbose=1)"
      ],
      "execution_count": null,
      "outputs": []
    }
  ]
}