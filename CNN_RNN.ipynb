{
  "nbformat": 4,
  "nbformat_minor": 0,
  "metadata": {
    "colab": {
      "name": "CNN_RNN.ipynb",
      "provenance": [],
      "machine_shape": "hm"
    },
    "kernelspec": {
      "name": "python3",
      "display_name": "Python 3"
    },
    "accelerator": "TPU"
  },
  "cells": [
    {
      "cell_type": "code",
      "metadata": {
        "id": "EbZenXatqLrV"
      },
      "source": [
        "import numpy as np\n",
        "import os\n",
        "import PIL\n",
        "import PIL.Image\n",
        "import tensorflow as tf\n",
        "import tensorflow_datasets as tfds\n",
        "import pathlib\n",
        "from tensorflow.keras import layers\n",
        "from google.colab import drive"
      ],
      "execution_count": 1,
      "outputs": []
    },
    {
      "cell_type": "code",
      "metadata": {
        "id": "6KQj7fhn6v3G",
        "outputId": "e87d3412-9118-417e-81bb-3d31e7ea0335",
        "colab": {
          "base_uri": "https://localhost:8080/"
        }
      },
      "source": [
        "drive.flush_and_unmount()\n",
        "drive.mount('/content/gdrive')\n",
        "#drive.mount('/content/gdrive', force_remount=True)"
      ],
      "execution_count": 2,
      "outputs": [
        {
          "output_type": "stream",
          "text": [
            "Mounted at /content/gdrive\n"
          ],
          "name": "stdout"
        }
      ]
    },
    {
      "cell_type": "code",
      "metadata": {
        "id": "S_3oznL7YXSQ"
      },
      "source": [
        "# check number of files in each directory\n",
        "\n",
        "import glob\n",
        "\n",
        "classnames = ['A', 'B', 'C', 'D', 'E', 'F', 'G', 'H', 'I', 'J', 'K', 'L', 'M', 'N', 'O', 'P', 'Q', 'R', 'S', 'T', 'U', 'V', 'W', 'X', 'Y', 'Z', 'del', 'nothing', 'space']\n",
        "totalcount = 0\n",
        "for name in classnames:\n",
        "  data_files = glob.glob(\"/content/gdrive/My Drive/Capstone/Dataset/combined_set/\" + name + \"/*\")\n",
        "  count = 0\n",
        "  for data_file in data_files:\n",
        "    count += 1\n",
        "    totalcount += 1\n",
        "  print(name + \":\" + str(count))\n",
        "print(\"total number of images:\" + str(totalcount))"
      ],
      "execution_count": null,
      "outputs": []
    },
    {
      "cell_type": "code",
      "metadata": {
        "id": "C11rm5RhqCwD"
      },
      "source": [
        "data_dir=\"/content/gdrive/My Drive/Capstone/Dataset/master_training_set\"\n",
        "data_dir = pathlib.Path(data_dir)"
      ],
      "execution_count": null,
      "outputs": []
    },
    {
      "cell_type": "code",
      "metadata": {
        "id": "F9HlC_cI1c7K"
      },
      "source": [
        "batch_size = 32\n",
        "img_height = 200\n",
        "img_width = 200"
      ],
      "execution_count": null,
      "outputs": []
    },
    {
      "cell_type": "code",
      "metadata": {
        "id": "apRxKjFg2WIs"
      },
      "source": [
        "train_ds = tf.keras.preprocessing.image_dataset_from_directory(\n",
        "  data_dir,\n",
        "  validation_split=0.2,\n",
        "  subset=\"training\",\n",
        "  seed=123,\n",
        "  image_size=(img_height, img_width),\n",
        "  batch_size=batch_size)"
      ],
      "execution_count": null,
      "outputs": []
    },
    {
      "cell_type": "code",
      "metadata": {
        "id": "A9Mp_O8A2aaf"
      },
      "source": [
        "val_ds = tf.keras.preprocessing.image_dataset_from_directory(\n",
        "  data_dir,\n",
        "  validation_split=0.2,\n",
        "  subset=\"validation\",\n",
        "  seed=123,\n",
        "  image_size=(img_height, img_width),\n",
        "  batch_size=batch_size)"
      ],
      "execution_count": null,
      "outputs": []
    },
    {
      "cell_type": "code",
      "metadata": {
        "id": "4_5TEDMa2xth"
      },
      "source": [
        "class_names = train_ds.class_names\n",
        "print(class_names)"
      ],
      "execution_count": null,
      "outputs": []
    },
    {
      "cell_type": "code",
      "metadata": {
        "id": "MZEj-n0X4fgC"
      },
      "source": [
        "normalization_layer = tf.keras.layers.experimental.preprocessing.Rescaling(1./255)"
      ],
      "execution_count": null,
      "outputs": []
    },
    {
      "cell_type": "code",
      "metadata": {
        "id": "g7FkueH35WQ2"
      },
      "source": [
        "AUTOTUNE = tf.data.experimental.AUTOTUNE\n",
        "\n",
        "train_ds = train_ds.cache().prefetch(buffer_size=AUTOTUNE)\n",
        "val_ds = val_ds.cache().prefetch(buffer_size=AUTOTUNE)"
      ],
      "execution_count": null,
      "outputs": []
    },
    {
      "cell_type": "code",
      "metadata": {
        "id": "mMmfr2Qe5aAD"
      },
      "source": [
        "num_classes = 2\n",
        "\n",
        "model = tf.keras.Sequential([\n",
        "  layers.experimental.preprocessing.Rescaling(1./255),\n",
        "  layers.Conv2D(32, 3, activation='relu'),\n",
        "  layers.MaxPooling2D(),\n",
        "  layers.Conv2D(32, 3, activation='relu'),\n",
        "  layers.MaxPooling2D(),\n",
        "  layers.Conv2D(32, 3, activation='relu'),\n",
        "  layers.MaxPooling2D(),\n",
        "  layers.Flatten(),\n",
        "  layers.Dense(128, activation='relu'),\n",
        "  layers.Dense(num_classes)\n",
        "])"
      ],
      "execution_count": null,
      "outputs": []
    },
    {
      "cell_type": "code",
      "metadata": {
        "id": "GZP7wb9c9zl_"
      },
      "source": [
        "model.compile(\n",
        "  optimizer='adam',\n",
        "  loss=tf.losses.SparseCategoricalCrossentropy(from_logits=True),\n",
        "  metrics=['accuracy'])"
      ],
      "execution_count": null,
      "outputs": []
    },
    {
      "cell_type": "code",
      "metadata": {
        "id": "Mk_pLFwx92UF"
      },
      "source": [
        "model.fit(\n",
        "  train_ds,\n",
        "  validation_data=val_ds,\n",
        "  epochs=3\n",
        ")"
      ],
      "execution_count": null,
      "outputs": []
    },
    {
      "cell_type": "code",
      "metadata": {
        "id": "_Ek_pMgIC3Z5"
      },
      "source": [
        "test_dir=\"/content/gdrive/My Drive/Capstone/Dataset/Jing\"\n",
        "test_dir = pathlib.Path(test_dir)\n",
        "test_ds = tf.keras.preprocessing.image_dataset_from_directory(\n",
        "  test_dir,\n",
        "  image_size=(img_height, img_width),\n",
        "  batch_size=batch_size)"
      ],
      "execution_count": null,
      "outputs": []
    },
    {
      "cell_type": "code",
      "metadata": {
        "id": "IjInTfx7DuOG"
      },
      "source": [
        "test_loss, test_acc = model.evaluate(test_ds, verbose=1)"
      ],
      "execution_count": null,
      "outputs": []
    },
    {
      "cell_type": "code",
      "metadata": {
        "id": "ec4Svl7IgvxU",
        "colab": {
          "base_uri": "https://localhost:8080/"
        },
        "outputId": "ad66d696-6a1b-4977-b5bc-acfdffed6851"
      },
      "source": [
        "data_dir = \"/content/gdrive/My Drive/Capstone/Dataset/combined_set\"\n",
        "data_dir = pathlib.Path(data_dir)\n",
        "\n",
        "batch_size = 32\n",
        "img_height = 200\n",
        "img_width = 200\n",
        "\n",
        "train_ds = tf.keras.preprocessing.image_dataset_from_directory(\n",
        "  data_dir,\n",
        "  validation_split=0.2,\n",
        "  subset=\"training\",\n",
        "  seed=123,\n",
        "  image_size=(img_height, img_width),\n",
        "  batch_size=batch_size,\n",
        "  follow_links=True)\n",
        "\n",
        "val_ds = tf.keras.preprocessing.image_dataset_from_directory(\n",
        "  data_dir,\n",
        "  validation_split=0.2,\n",
        "  subset=\"validation\",\n",
        "  seed=123,\n",
        "  image_size=(img_height, img_width),\n",
        "  batch_size=batch_size,\n",
        "  follow_links=True)\n",
        "class_names = train_ds.class_names\n",
        "\n",
        "print(class_names)\n",
        "\n",
        "normalization_layer = tf.keras.layers.experimental.preprocessing.Rescaling(1./255)\n",
        "\n",
        "# AUTOTUNE in keras is -1 as a constant\n",
        "# AUTOTUNE = tf.data.experimental.AUTOTUNE\n",
        "# train_ds = train_ds.cache().prefetch(buffer_size=AUTOTUNE)\n",
        "# val_ds = val_ds.cache().prefetch(buffer_size=AUTOTUNE)\n",
        "\n",
        "num_classes = 29\n",
        "model = tf.keras.Sequential([\n",
        "  layers.experimental.preprocessing.Rescaling(1./255),\n",
        "  layers.Conv2D(32, 3, activation='relu'),\n",
        "  layers.MaxPooling2D(),\n",
        "  layers.Conv2D(32, 3, activation='relu'),\n",
        "  layers.MaxPooling2D(),\n",
        "  layers.Conv2D(32, 3, activation='relu'),\n",
        "  layers.MaxPooling2D(),\n",
        "  layers.Flatten(),\n",
        "  layers.Dense(128, activation='relu'),\n",
        "  layers.Dense(num_classes)\n",
        "])\n",
        "\n",
        "model.compile(\n",
        "  optimizer='adam',\n",
        "  loss=tf.losses.SparseCategoricalCrossentropy(from_logits=True),\n",
        "  metrics=['sparse_categorical_accuracy'])\n",
        "\n",
        "model.fit(\n",
        "  train_ds,\n",
        "  validation_data=val_ds,\n",
        "  epochs=4\n",
        ")\n",
        "\n",
        "model.save(\"gdrive/My Drive/Capstone/models/nov_20_2020\")"
      ],
      "execution_count": 5,
      "outputs": [
        {
          "output_type": "stream",
          "text": [
            "Found 23507 files belonging to 29 classes.\n",
            "Using 18806 files for training.\n",
            "Found 23507 files belonging to 29 classes.\n",
            "Using 4701 files for validation.\n",
            "['A', 'B', 'C', 'D', 'E', 'F', 'G', 'H', 'I', 'J', 'K', 'L', 'M', 'N', 'O', 'P', 'Q', 'R', 'S', 'T', 'U', 'V', 'W', 'X', 'Y', 'Z', 'del', 'nothing', 'space']\n",
            "Epoch 1/4\n",
            "588/588 [==============================] - 257s 438ms/step - loss: 1.7497 - sparse_categorical_accuracy: 0.5316 - val_loss: 0.6814 - val_sparse_categorical_accuracy: 0.8209\n",
            "Epoch 2/4\n",
            "588/588 [==============================] - 255s 433ms/step - loss: 0.3374 - sparse_categorical_accuracy: 0.9085 - val_loss: 0.4541 - val_sparse_categorical_accuracy: 0.8913\n",
            "Epoch 3/4\n",
            "588/588 [==============================] - 253s 430ms/step - loss: 0.1212 - sparse_categorical_accuracy: 0.9678 - val_loss: 0.3226 - val_sparse_categorical_accuracy: 0.9198\n",
            "Epoch 4/4\n",
            "588/588 [==============================] - 250s 425ms/step - loss: 0.0651 - sparse_categorical_accuracy: 0.9812 - val_loss: 0.3631 - val_sparse_categorical_accuracy: 0.9121\n",
            "INFO:tensorflow:Assets written to: gdrive/My Drive/Capstone/models/nov_20_2020/assets\n"
          ],
          "name": "stdout"
        }
      ]
    },
    {
      "cell_type": "code",
      "metadata": {
        "id": "S3glZBL-rwZM",
        "outputId": "37f58ac0-706d-45a2-deef-4d04e3952758",
        "colab": {
          "base_uri": "https://localhost:8080/"
        }
      },
      "source": [
        "# Model fit -> evaluate: produces good accuracy on results\n",
        "test_loss, test_acc = model.evaluate(val_ds, verbose=1)"
      ],
      "execution_count": 7,
      "outputs": [
        {
          "output_type": "stream",
          "text": [
            "147/147 [==============================] - 30s 204ms/step - loss: 0.3631 - sparse_categorical_accuracy: 0.9121\n"
          ],
          "name": "stdout"
        }
      ]
    },
    {
      "cell_type": "code",
      "metadata": {
        "id": "ShplgldkNrNP",
        "outputId": "020f1c75-a8ae-4136-ab6e-e3b6b1e70b1b",
        "colab": {
          "base_uri": "https://localhost:8080/"
        }
      },
      "source": [
        "eval_model = tf.keras.models.load_model(\"gdrive/My Drive/Capstone/models/nov_20_2020\")\n",
        "dir = \"/content/gdrive/My Drive/Capstone/Dataset/test_set\"\n",
        "test_ds = tf.keras.preprocessing.image_dataset_from_directory(\n",
        "  dir,\n",
        "  image_size=(img_height, img_width),\n",
        "  batch_size=batch_size)\n",
        "test_names = test_ds.class_names\n",
        "\n",
        "test_loss, test_acc = eval_model.evaluate(test_ds, verbose=1)"
      ],
      "execution_count": 8,
      "outputs": [
        {
          "output_type": "stream",
          "text": [
            "Found 8702 files belonging to 29 classes.\n",
            "272/272 [==============================] - 1737s 6s/step - loss: 9.7324 - sparse_categorical_accuracy: 0.1723\n"
          ],
          "name": "stdout"
        }
      ]
    },
    {
      "cell_type": "code",
      "metadata": {
        "id": "ywSnjYj8GwXo"
      },
      "source": [
        "# attempt to train loaded model on additional ASL Alphabet training data\n",
        "model = tf.keras.models.load_model(\"gdrive/My Drive/Capstone/models/nov_6_2020\")\n",
        "\n",
        "asl_alphabet_dir = \"/content/gdrive/My Drive/Capstone/Dataset/ASL Alphabet/asl_alphabet_train/asl_alphabet_train\"\n",
        "asl_alphabet_dir = pathlib.Path(asl_alphabet_dir)\n",
        "\n",
        "batch_size = 32\n",
        "img_height = 200\n",
        "img_width = 200\n",
        "\n",
        "asl_train_ds = tf.keras.preprocessing.image_dataset_from_directory(\n",
        "  asl_alphabet_dir,\n",
        "  validation_split=0.2,\n",
        "  subset=\"training\",\n",
        "  seed=123,\n",
        "  image_size=(img_height, img_width),\n",
        "  batch_size=batch_size,\n",
        "  follow_links=True)\n",
        "\n",
        "asl_val_ds = tf.keras.preprocessing.image_dataset_from_directory(\n",
        "  asl_alphabet_dir,\n",
        "  validation_split=0.2,\n",
        "  subset=\"validation\",\n",
        "  seed=123,\n",
        "  image_size=(img_height, img_width),\n",
        "  batch_size=batch_size,\n",
        "  follow_links=True)\n",
        "class_names = asl_train_ds.class_names\n",
        "\n",
        "model.fit(\n",
        "  asl_train_ds,\n",
        "  validation_data=asl_val_ds,\n",
        "  epochs=5\n",
        ")"
      ],
      "execution_count": null,
      "outputs": []
    },
    {
      "cell_type": "code",
      "metadata": {
        "id": "3oDNuuT-oFim"
      },
      "source": [
        "model.save(\"gdrive/My Drive/Capstone/models/nov_8_2020\")"
      ],
      "execution_count": null,
      "outputs": []
    },
    {
      "cell_type": "code",
      "metadata": {
        "id": "NrXDcn8woNfH"
      },
      "source": [
        "eval_model = tf.keras.models.load_model(\"gdrive/My Drive/Capstone/models/nov_8_2020\")\n",
        "dir = \"/content/gdrive/My Drive/Capstone/Dataset/test_set\"\n",
        "test_ds = tf.keras.preprocessing.image_dataset_from_directory(\n",
        "  dir,\n",
        "  image_size=(img_height, img_width),\n",
        "  batch_size=batch_size)\n",
        "test_names = test_ds.class_names\n",
        "\n",
        "test_loss, test_acc = eval_model.evaluate(test_ds, verbose=1)"
      ],
      "execution_count": null,
      "outputs": []
    }
  ]
}