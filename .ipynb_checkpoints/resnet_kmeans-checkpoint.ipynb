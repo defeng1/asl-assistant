{
 "cells": [
  {
   "cell_type": "code",
   "execution_count": 119,
   "metadata": {},
   "outputs": [],
   "source": [
    "#!pip install tensorflow\n",
    "from keras.preprocessing import image\n",
    "from keras.applications.vgg16 import VGG16 \n",
    "from tensorflow.keras.applications.resnet50 import ResNet50\n",
    "from tensorflow.keras.applications.mobilenet import MobileNet\n",
    "from keras.applications.vgg16 import preprocess_input\n",
    "from sklearn.cluster import KMeans\n",
    "from sklearn.decomposition import PCA\n",
    "from sklearn.metrics import silhouette_score\n",
    "from sklearn import mixture\n",
    "import io, os, sys, types, shutil, glob, os.path\n",
    "from pathlib import Path\n",
    "import numpy as np\n",
    "import pickle\n",
    "import random\n",
    "import math"
   ]
  },
  {
   "cell_type": "code",
   "execution_count": 120,
   "metadata": {},
   "outputs": [
    {
     "name": "stdout",
     "output_type": "stream",
     "text": [
      "WARNING:tensorflow:`input_shape` is undefined or non-square, or `rows` is not in [128, 160, 192, 224]. Weights for input shape (224, 224) will be loaded as the default.\n",
      "Downloading data from https://storage.googleapis.com/tensorflow/keras-applications/mobilenet/mobilenet_1_0_224_tf_no_top.h5\n",
      "17227776/17225924 [==============================] - 4s 0us/step\n"
     ]
    }
   ],
   "source": [
    "image.LOAD_TRUNCATED_IMAGES = True \n",
    "model = VGG16(weights='imagenet', include_top=False)\n",
    "res_model = ResNet50(weights='imagenet', include_top=False)\n",
    "mobile_model = MobileNet(weights='imagenet', include_top=False)"
   ]
  },
  {
   "cell_type": "code",
   "execution_count": 121,
   "metadata": {},
   "outputs": [],
   "source": [
    "\n",
    "cwd = os.getcwd() \n",
    "\n",
    "pict_list = []\n",
    "for root, dirs, files in os.walk(os.path.realpath('jing')):\n",
    "    for dir_ in dirs:\n",
    "        pict_list += glob.glob(os.path.join(cwd + '\\\\jing\\\\' + dir_ , '*.png'))"
   ]
  },
  {
   "cell_type": "code",
   "execution_count": 122,
   "metadata": {},
   "outputs": [],
   "source": [
    "feature_list = []\n",
    "pict_dict = dict(zip(pict_list, range(0, len(pict_list))))\n",
    "#print(pict_dict)\n",
    "random.shuffle(pict_list)\n",
    "pict_list = pict_list[:10]"
   ]
  },
  {
   "cell_type": "code",
   "execution_count": 123,
   "metadata": {},
   "outputs": [
    {
     "name": "stdout",
     "output_type": "stream",
     "text": [
      "    Status: 9 / 10\r"
     ]
    }
   ],
   "source": [
    "for i, imagepath in enumerate(pict_list):\n",
    "    print(\"    Status: %s / %s\" %(i, len(pict_list)), end=\"\\r\")\n",
    "    img = image.load_img(imagepath, target_size=(224, 224))\n",
    "    img_data = image.img_to_array(img)\n",
    "    img_data = np.expand_dims(img_data, axis=0)\n",
    "    img_data = preprocess_input(img_data)\n",
    "    features = np.array(mobile_model.predict(img_data))\n",
    "    feature_list.append(features.flatten())\n"
   ]
  },
  {
   "cell_type": "code",
   "execution_count": 6,
   "metadata": {},
   "outputs": [],
   "source": [
    "#pickle.dump(feature_list, open(\"fl.p\", \"wb\"))"
   ]
  },
  {
   "cell_type": "code",
   "execution_count": 124,
   "metadata": {},
   "outputs": [],
   "source": [
    "sil = []\n",
    "kmax = 6\n",
    "x = np.array(feature_list)\n",
    "\n",
    "for k in range(2, kmax+1):\n",
    "  km = KMeans(n_clusters = k).fit(x)\n",
    "  labels = km.labels_\n",
    "  sil.append(silhouette_score(x, labels, metric = 'euclidean'))"
   ]
  },
  {
   "cell_type": "code",
   "execution_count": 125,
   "metadata": {},
   "outputs": [
    {
     "name": "stdout",
     "output_type": "stream",
     "text": [
      "[0.09990636, 0.1473506, 0.19710685, 0.17455164, 0.1486931]\n",
      "[0.13311613, 0.036457896, 0.04123029, 0.12319055]\n",
      "4\n"
     ]
    }
   ],
   "source": [
    "scores = [abs(sil[i] - sil[i-1]) for i in range(1, len(sil))]\n",
    "k = scores.index(min(scores)) + 2"
   ]
  },
  {
   "cell_type": "code",
   "execution_count": 126,
   "metadata": {},
   "outputs": [
    {
     "name": "stdout",
     "output_type": "stream",
     "text": [
      "0 1\n",
      "1 1\n",
      "2 0\n",
      "3 3\n",
      "4 0\n",
      "5 2\n",
      "6 0\n",
      "7 3\n",
      "8 0\n",
      "9 2\n"
     ]
    }
   ],
   "source": [
    "km = KMeans(n_clusters = k).fit(x)\n",
    "#for i, m in enumerate(km.labels_):\n",
    "#    print(i, m)"
   ]
  },
  {
   "cell_type": "code",
   "execution_count": 127,
   "metadata": {},
   "outputs": [
    {
     "name": "stdout",
     "output_type": "stream",
     "text": [
      "\n",
      "\n",
      "    Copy: 9 / 10\r"
     ]
    }
   ],
   "source": [
    "targetdir = (cwd + \"\\\\target_dir\\\\\")\n",
    "try:\n",
    "    os.makedirs(targetdir)\n",
    "except OSError:\n",
    "    pass\n",
    "# Copy with cluster name\n",
    "print(\"\\n\")\n",
    "for i, m in enumerate(km.labels_):\n",
    "    print(\"    Copy: %s / %s\" %(i, len(km.labels_)), end=\"\\r\")\n",
    "    shutil.copy(pict_list[i], targetdir + str(m) + \"_\" + str(i) + \".jpg\")"
   ]
  }
 ],
 "metadata": {
  "kernelspec": {
   "display_name": "Python 3",
   "language": "python",
   "name": "python3"
  },
  "language_info": {
   "codemirror_mode": {
    "name": "ipython",
    "version": 3
   },
   "file_extension": ".py",
   "mimetype": "text/x-python",
   "name": "python",
   "nbconvert_exporter": "python",
   "pygments_lexer": "ipython3",
   "version": "3.7.6"
  }
 },
 "nbformat": 4,
 "nbformat_minor": 4
}
