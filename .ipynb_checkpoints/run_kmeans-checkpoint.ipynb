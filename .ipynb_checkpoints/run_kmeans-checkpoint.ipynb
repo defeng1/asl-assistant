{
 "cells": [
  {
   "cell_type": "code",
   "execution_count": 128,
   "metadata": {},
   "outputs": [],
   "source": [
    "#!pip install tensorflow\n",
    "from keras.preprocessing import image\n",
    "from keras.applications.vgg16 import VGG16 \n",
    "from tensorflow.keras.applications.resnet50 import ResNet50\n",
    "from tensorflow.keras.applications.mobilenet import MobileNet\n",
    "from keras.applications.vgg16 import preprocess_input\n",
    "from sklearn.cluster import KMeans\n",
    "from sklearn.decomposition import PCA\n",
    "from sklearn.metrics import silhouette_score\n",
    "from sklearn import mixture\n",
    "from scipy.misc import imresize\n",
    "import io, os, sys, types, shutil, glob, os.path\n",
    "from pathlib import Path\n",
    "import numpy as np\n",
    "import pickle\n",
    "import random\n",
    "import math"
   ]
  },
  {
   "cell_type": "code",
   "execution_count": 120,
   "metadata": {},
   "outputs": [
    {
     "name": "stdout",
     "output_type": "stream",
     "text": [
      "WARNING:tensorflow:`input_shape` is undefined or non-square, or `rows` is not in [128, 160, 192, 224]. Weights for input shape (224, 224) will be loaded as the default.\n",
      "Downloading data from https://storage.googleapis.com/tensorflow/keras-applications/mobilenet/mobilenet_1_0_224_tf_no_top.h5\n",
      "17227776/17225924 [==============================] - 4s 0us/step\n"
     ]
    }
   ],
   "source": [
    "image.LOAD_TRUNCATED_IMAGES = True \n",
    "model = VGG16(weights='imagenet', include_top=False)\n",
    "res_model = ResNet50(weights='imagenet', include_top=False)\n",
    "mobile_model = MobileNet(weights='imagenet', include_top=False)"
   ]
  },
  {
   "cell_type": "code",
   "execution_count": 146,
   "metadata": {},
   "outputs": [
    {
     "name": "stdout",
     "output_type": "stream",
     "text": [
      "[[150.93416 150.93416 378.1541  384.69812 355.44345 387.5734  367.6183\n",
      "  377.6572  376.13187 376.29648]\n",
      " [349.36673 357.9215  185.92755 371.29572 177.96031 358.05884 182.49141\n",
      "  369.1195  192.90305 345.36072]\n",
      " [372.00357 373.58997 358.58234 374.7762  354.39426 172.36342 357.7298\n",
      "  372.39847 361.56625 172.36342]\n",
      " [365.73492 372.64258 368.31372 178.2629  373.76837 374.0919  372.75452\n",
      "  178.2629  378.89136 367.49976]] [0, 4, 5, 3]\n",
      "0 0\n",
      "1 0\n",
      "2 1\n",
      "3 3\n",
      "4 1\n",
      "5 2\n",
      "6 1\n",
      "7 3\n",
      "8 1\n",
      "9 2\n"
     ]
    }
   ],
   "source": [
    "def run_kmeans(images):\n",
    "    cwd = os.getcwd() \n",
    "\n",
    "    feature_list = []\n",
    "    #pict_dict = dict(zip(pict_list, range(0, len(pict_list))))\n",
    "    #print(pict_dict)\n",
    "    pict_list = images\n",
    "    random.shuffle(pict_list)\n",
    "    image.smart_resize(\n",
    "        pict_list, (224, 224), interpolation='bilinear')\n",
    "\n",
    "    for i, imagepath in enumerate(pict_list):\n",
    "        print(\"    Status: %s / %s\" %(i, len(pict_list)), end=\"\\r\")\n",
    "        #img = image.load_img(imagepath, target_size=(224, 224))\n",
    "        #img = imresize(imagepath, (224,224))\n",
    "        img_data = image.img_to_array(imagepath)\n",
    "        img_data = np.expand_dims(img_data, axis=0)\n",
    "        img_data = preprocess_input(img_data)\n",
    "        features = np.array(mobile_model.predict(img_data))\n",
    "        feature_list.append(features.flatten())\n",
    "\n",
    "\n",
    "    sil = []\n",
    "    kmax = 6\n",
    "    x = np.array(feature_list)\n",
    "\n",
    "    for k in range(2, kmax+1):\n",
    "        km = KMeans(n_clusters = k).fit(x)\n",
    "        labels = km.labels_\n",
    "        sil.append(silhouette_score(x, labels, metric = 'euclidean'))\n",
    "\n",
    "    scores = [abs(sil[i] - sil[i-1]) for i in range(1, len(sil))]\n",
    "    k = scores.index(min(scores)) + 2\n",
    "\n",
    "    km = KMeans(n_clusters = k).fit(x)\n",
    "    dists = np.array(km.transform(x)).T\n",
    "    ind = [i.argmin() for i in dists]\n",
    "    \n",
    "    \n",
    "    targetdir = (cwd + \"\\\\target_dir\\\\\")\n",
    "    procdir = (cwd + \"\\\\proc_dir\\\\\")\n",
    "    try:\n",
    "        if os.path.exists(targetdir):\n",
    "            shutil.rmtree(targetdir)\n",
    "        if os.path.exists(procdir):\n",
    "            shutil.rmtree(targetdir)\n",
    "        os.makedirs(targetdir)\n",
    "        os.makedirs(procdir)\n",
    "    except OSError:\n",
    "        pass\n",
    "\n",
    "    # Copy with cluster name\n",
    "    print(\"\\n\")\n",
    "    for i, m in enumerate(km.labels_):\n",
    "        print(\"    Copy: %s / %s\" %(i, len(km.labels_)), end=\"\\r\")\n",
    "        shutil.copy(pict_list[i], targetdir + str(m) + \"_\" + str(i) + \".jpg\")\n",
    "\n",
    "    for i in ind:\n",
    "        shutil.copy(pict_list[i], procdir + str(km.labels_[i]) + \"_\" + str(i) + \".jpg\")\n",
    "        \n",
    "    return [pict_list[i] for i in ind]"
   ]
  }
 ],
 "metadata": {
  "kernelspec": {
   "display_name": "Python 3",
   "language": "python",
   "name": "python3"
  },
  "language_info": {
   "codemirror_mode": {
    "name": "ipython",
    "version": 3
   },
   "file_extension": ".py",
   "mimetype": "text/x-python",
   "name": "python",
   "nbconvert_exporter": "python",
   "pygments_lexer": "ipython3",
   "version": "3.7.6"
  }
 },
 "nbformat": 4,
 "nbformat_minor": 4
}
