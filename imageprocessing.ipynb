{
  "nbformat": 4,
  "nbformat_minor": 0,
  "metadata": {
    "colab": {
      "name": "imageprocessing.ipynb",
      "provenance": [],
      "authorship_tag": "ABX9TyOKnSVJpvGVnu9tZXvhQ3Cs",
      "include_colab_link": true
    },
    "kernelspec": {
      "name": "python3",
      "display_name": "Python 3"
    }
  },
  "cells": [
    {
      "cell_type": "markdown",
      "metadata": {
        "id": "view-in-github",
        "colab_type": "text"
      },
      "source": [
        "<a href=\"https://colab.research.google.com/github/defeng1/asl-assistant/blob/back-end/imageprocessing.ipynb\" target=\"_parent\"><img src=\"https://colab.research.google.com/assets/colab-badge.svg\" alt=\"Open In Colab\"/></a>"
      ]
    },
    {
      "cell_type": "code",
      "metadata": {
        "id": "nk6-knAz48rZ",
        "outputId": "cb241073-0960-453e-e92d-cfd8fc684213",
        "colab": {
          "base_uri": "https://localhost:8080/"
        }
      },
      "source": [
        "#Imports & First-time Setup\n",
        "import random\n",
        "import numpy as np\n",
        "import os\n",
        "import pathlib\n",
        "import cv2\n",
        "from google.colab import drive\n",
        "\n",
        "drive.mount('/content/gdrive')"
      ],
      "execution_count": 110,
      "outputs": [
        {
          "output_type": "stream",
          "text": [
            "Drive already mounted at /content/gdrive; to attempt to forcibly remount, call drive.mount(\"/content/gdrive\", force_remount=True).\n"
          ],
          "name": "stdout"
        }
      ]
    },
    {
      "cell_type": "code",
      "metadata": {
        "id": "A0Dfc5Kr5pwp"
      },
      "source": [
        "def processVideo(videoName, dataName, name):\n",
        "  vidInput = cv2.VideoCapture(videoName)\n",
        "  outdir = \"/content/gdrive/My Drive/Capstone/Dataset/combined_set\" + \"/\" + dataName + \"/\"\n",
        "  if not os.path.isdir(outdir):\n",
        "    os.mkdir(outdir)\n",
        "\n",
        "  numFrames = int(vidInput.get(cv2.CAP_PROP_FRAME_COUNT))\n",
        "  numFrames -= 40\n",
        "\n",
        "  frameSkip = numFrames / 100\n",
        "  frameSkip = int(frameSkip)\n",
        "\n",
        "  frameCtr = 1\n",
        "  outputCtr = 1\n",
        "\n",
        "  while (vidInput.isOpened()):\n",
        "    readSuccess, frame = vidInput.read()\n",
        "\n",
        "    if readSuccess:\n",
        "      if (frameCtr % frameSkip) == 0:\n",
        "        outfile = outdir + name + dataName + str(outputCtr) + \".png\"\n",
        "        if outputCtr > 100:\n",
        "          break\n",
        "        smallframe = cv2.resize(frame, (200, 200))\n",
        "        if not cv2.imwrite(outfile, smallframe):\n",
        "          print(\"failed to write!\")\n",
        "        outputCtr +=1\n",
        "      frameCtr += 1\n",
        "    else:\n",
        "      print(\"Failed to read frame from video\")\n",
        "      break\n",
        "\n",
        "  vidInput.release() \n",
        "  cv2.destroyAllWindows() "
      ],
      "execution_count": 102,
      "outputs": []
    },
    {
      "cell_type": "code",
      "metadata": {
        "id": "mvcXvZdoKYXc"
      },
      "source": [
        "def processVideoRot(videoName, dataName, name):\n",
        "  vidInput = cv2.VideoCapture(videoName)\n",
        "  outdir = \"/content/gdrive/My Drive/Capstone/Dataset/combined_set\" + \"/\" + dataName + \"/\"\n",
        "  if not os.path.isdir(outdir):\n",
        "    os.mkdir(outdir)\n",
        "\n",
        "  numFrames = int(vidInput.get(cv2.CAP_PROP_FRAME_COUNT))\n",
        "  numFrames -= 40\n",
        "\n",
        "  frameSkip = numFrames / 100\n",
        "  frameSkip = int(frameSkip)\n",
        "\n",
        "  frameCtr = 1\n",
        "  outputCtr = 1\n",
        "\n",
        "  while (vidInput.isOpened()):\n",
        "    readSuccess, frame = vidInput.read()\n",
        "\n",
        "    if readSuccess:\n",
        "      if (frameCtr % frameSkip) == 0:\n",
        "        outfile = outdir + name + dataName + str(outputCtr) + \".png\"\n",
        "        if outputCtr > 100:\n",
        "          break\n",
        "        smallframe = cv2.resize(frame, (200, 200))\n",
        "        rotframe = cv2.rotate(smallframe, cv2.ROTATE_90_CLOCKWISE)\n",
        "        if not cv2.imwrite(outfile, rotframe):\n",
        "          print(\"failed to write!\")\n",
        "        outputCtr +=1\n",
        "      frameCtr += 1\n",
        "    else:\n",
        "      print(\"Failed to read frame from video\")\n",
        "      break\n",
        "\n",
        "  vidInput.release() \n",
        "  cv2.destroyAllWindows() "
      ],
      "execution_count": 105,
      "outputs": []
    },
    {
      "cell_type": "code",
      "metadata": {
        "id": "GhHwsUjKCcua",
        "outputId": "81e68a0f-e4a0-4ec8-ebf4-c3cef356a866",
        "colab": {
          "base_uri": "https://localhost:8080/"
        }
      },
      "source": [
        "dir = \"/content/gdrive/My Drive/Capstone/Dataset/Jing\"\n",
        "# classnames = ['A', 'B', 'C', 'D', 'E', 'F', 'G', 'H', 'I', 'J', 'K', 'L', 'M', 'N', 'O', 'P', 'Q', 'R', 'S', 'T', 'U', 'V', 'W', 'X', 'Y', 'Z', 'del', 'nothing', 'space']\n",
        "classnames = ['del', 'nothing', 'space']\n",
        "\n",
        "for name in classnames:\n",
        "  vidname = dir + \"/\" + name + \"2.mp4\"\n",
        "  if not os.path.isfile(vidname):\n",
        "    print(\"Could not locate \" + vidname)\n",
        "    continue\n",
        "  processVideoRot(vidname, name, \"Jing2\")\n",
        "  print(\"done \" + name)"
      ],
      "execution_count": 111,
      "outputs": [
        {
          "output_type": "stream",
          "text": [
            "done del\n",
            "done nothing\n",
            "done space\n"
          ],
          "name": "stdout"
        }
      ]
    },
    {
      "cell_type": "code",
      "metadata": {
        "id": "AOD8zXj8IaA5"
      },
      "source": [
        "dir = \"/content/gdrive/My Drive/Capstone/Dataset/Max\"\n",
        "classnames = ['A', 'B', 'C', 'D', 'E', 'F', 'G', 'H', 'I', 'J', 'K', 'L', 'M', 'N', 'O', 'P', 'Q', 'R', 'S', 'T', 'U', 'V', 'W', 'X', 'Y', 'Z', 'del', 'nothing', 'space']\n",
        "\n",
        "for name in classnames:\n",
        "  vidname = dir + \"/\" + name + \".mp4\"\n",
        "  if not os.path.isfile(vidname):\n",
        "    print(\"Could not locate \" + vidname)\n",
        "    continue\n",
        "  processVideo(vidname, name, \"Max2\")\n",
        "  print(\"done \" + name)"
      ],
      "execution_count": null,
      "outputs": []
    }
  ]
}