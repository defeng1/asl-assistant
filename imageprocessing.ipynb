{
  "nbformat": 4,
  "nbformat_minor": 0,
  "metadata": {
    "colab": {
      "name": "imageprocessing.ipynb",
      "provenance": [],
      "authorship_tag": "ABX9TyOHIjGHl+vuwsZ6z3F8Oh7T",
      "include_colab_link": true
    },
    "kernelspec": {
      "name": "python3",
      "display_name": "Python 3"
    }
  },
  "cells": [
    {
      "cell_type": "markdown",
      "metadata": {
        "id": "view-in-github",
        "colab_type": "text"
      },
      "source": [
        "<a href=\"https://colab.research.google.com/github/defeng1/asl-assistant/blob/back-end/imageprocessing.ipynb\" target=\"_parent\"><img src=\"https://colab.research.google.com/assets/colab-badge.svg\" alt=\"Open In Colab\"/></a>"
      ]
    },
    {
      "cell_type": "code",
      "metadata": {
        "id": "nk6-knAz48rZ",
        "outputId": "cc1a9be0-ce26-4e20-ccd6-4d725a899bea",
        "colab": {
          "base_uri": "https://localhost:8080/"
        }
      },
      "source": [
        "#Imports & First-time Setup\n",
        "import random\n",
        "import numpy as np\n",
        "import os\n",
        "import pathlib\n",
        "import cv2\n",
        "from google.colab import drive\n",
        "\n",
        "drive.mount('/content/gdrive')"
      ],
      "execution_count": 5,
      "outputs": [
        {
          "output_type": "stream",
          "text": [
            "Drive already mounted at /content/gdrive; to attempt to forcibly remount, call drive.mount(\"/content/gdrive\", force_remount=True).\n"
          ],
          "name": "stdout"
        }
      ]
    },
    {
      "cell_type": "code",
      "metadata": {
        "id": "A0Dfc5Kr5pwp"
      },
      "source": [
        "def processVideo(videoName, dataName, name):\n",
        "  print(videoName)\n",
        "  vidInput = cv2.VideoCapture(videoName)\n",
        "  outdir = \"/content/gdrive/My Drive/Capstone/Dataset/combined_set\" + \"/\" + dataName + \"/\"\n",
        "  if not os.path.isdir(outdir):\n",
        "    os.mkdir(outdir)\n",
        "\n",
        "  numFrames = int(vidInput.get(cv2.CAP_PROP_FRAME_COUNT))\n",
        "  numFrames -= 60\n",
        "\n",
        "  frameSkip = numFrames / 100\n",
        "\n",
        "  frameCtr = 1\n",
        "  while (vidInput.isOpened()):\n",
        "    readSuccess, frame = vidInput.read()\n",
        "\n",
        "    if readSuccess:\n",
        "      if frameCtr % frameSkip == 0:\n",
        "        outfile = outdir + name + dataName + str(frameCtr) + \".png\"\n",
        "        print(outfile)\n",
        "        if frameCtr > numFrames:\n",
        "          break\n",
        "        smallframe = cv2.resize(frame, (200, 200))\n",
        "        if not cv2.imwrite(outfile, smallframe):\n",
        "          print(\"failed to write!\")\n",
        "        frameCtr += 1\n",
        "    else:\n",
        "      print(\"Failed to read frame from video\")\n",
        "      break\n",
        "\n",
        "  vidInput.release() \n",
        "  cv2.destroyAllWindows() "
      ],
      "execution_count": 37,
      "outputs": []
    },
    {
      "cell_type": "code",
      "metadata": {
        "id": "mvcXvZdoKYXc"
      },
      "source": [
        "def processVideoRot(videoName, dataName):\n",
        "  print(videoName)\n",
        "  vidInput = cv2.VideoCapture(videoName)\n",
        "  outdir = \"/content/gdrive/My Drive/Capstone/Dataset/combined_set\" + \"/\" + dataName + \"/\"\n",
        "  if not os.path.isdir(outdir):\n",
        "    os.mkdir(outdir)\n",
        "  frameCtr = 1\n",
        "\n",
        "  print(outdir)\n",
        "\n",
        "  while (vidInput.isOpened()):\n",
        "    readSuccess, frame = vidInput.read()\n",
        "\n",
        "    if readSuccess:\n",
        "      outfile = outdir + \"Jing\" + dataName + str(frameCtr) + \".png\"\n",
        "      print(outfile)\n",
        "      if frameCtr > 100:\n",
        "        break\n",
        "      smallframe = cv2.resize(frame, (200, 200))\n",
        "      rotframe = cv2.rotate(smallframe, cv2.ROTATE_90_CLOCKWISE)\n",
        "      if not cv2.imwrite(outfile, rotframe):\n",
        "        print(\"failed to write!\")\n",
        "      frameCtr += 1\n",
        "    else:\n",
        "      print(\"Failed to read frame\")\n",
        "      break\n",
        "\n",
        "  vidInput.release() \n",
        "  cv2.destroyAllWindows() "
      ],
      "execution_count": 40,
      "outputs": []
    },
    {
      "cell_type": "code",
      "metadata": {
        "id": "GhHwsUjKCcua",
        "outputId": "134e3e26-e2fe-4bf0-af11-542305074b36",
        "colab": {
          "base_uri": "https://localhost:8080/",
          "height": 401
        }
      },
      "source": [
        "dir = \"/content/gdrive/My Drive/Capstone/Dataset/Derek\"\n",
        "classnames = ['A', 'B', 'C', 'D', 'E', 'F', 'G', 'H', 'I', 'J', 'K', 'L', 'M', 'N', 'O', 'P', 'Q', 'R', 'S', 'T', 'U', 'V', 'W', 'X', 'Y', 'Z', 'del', 'nothing', 'space']\n",
        "\n",
        "for name in classnames:\n",
        "  vidname = dir + \"/\" + name + \".mp4\"\n",
        "  if not os.path.isfile(vidname):\n",
        "    print(\"Could not locate \" + vidname)\n",
        "    continue\n",
        "  processVideo(vidname, name, \"Derek\")\n",
        "  print(\"done \" + name)"
      ],
      "execution_count": 38,
      "outputs": [
        {
          "output_type": "stream",
          "text": [
            "/content/gdrive/My Drive/Capstone/Dataset/Derek/A.mp4\n",
            "Failed to read frame from video\n",
            "done A\n",
            "/content/gdrive/My Drive/Capstone/Dataset/Derek/B.mp4\n"
          ],
          "name": "stdout"
        },
        {
          "output_type": "error",
          "ename": "KeyboardInterrupt",
          "evalue": "ignored",
          "traceback": [
            "\u001b[0;31m---------------------------------------------------------------------------\u001b[0m",
            "\u001b[0;31mKeyboardInterrupt\u001b[0m                         Traceback (most recent call last)",
            "\u001b[0;32m<ipython-input-38-0251f9052a42>\u001b[0m in \u001b[0;36m<module>\u001b[0;34m()\u001b[0m\n\u001b[1;32m      7\u001b[0m     \u001b[0mprint\u001b[0m\u001b[0;34m(\u001b[0m\u001b[0;34m\"Could not locate \"\u001b[0m \u001b[0;34m+\u001b[0m \u001b[0mvidname\u001b[0m\u001b[0;34m)\u001b[0m\u001b[0;34m\u001b[0m\u001b[0;34m\u001b[0m\u001b[0m\n\u001b[1;32m      8\u001b[0m     \u001b[0;32mcontinue\u001b[0m\u001b[0;34m\u001b[0m\u001b[0;34m\u001b[0m\u001b[0m\n\u001b[0;32m----> 9\u001b[0;31m   \u001b[0mprocessVideo\u001b[0m\u001b[0;34m(\u001b[0m\u001b[0mvidname\u001b[0m\u001b[0;34m,\u001b[0m \u001b[0mname\u001b[0m\u001b[0;34m,\u001b[0m \u001b[0;34m\"Derek\"\u001b[0m\u001b[0;34m)\u001b[0m\u001b[0;34m\u001b[0m\u001b[0;34m\u001b[0m\u001b[0m\n\u001b[0m\u001b[1;32m     10\u001b[0m   \u001b[0mprint\u001b[0m\u001b[0;34m(\u001b[0m\u001b[0;34m\"done \"\u001b[0m \u001b[0;34m+\u001b[0m \u001b[0mname\u001b[0m\u001b[0;34m)\u001b[0m\u001b[0;34m\u001b[0m\u001b[0;34m\u001b[0m\u001b[0m\n",
            "\u001b[0;32m<ipython-input-37-1d6d4e3484ad>\u001b[0m in \u001b[0;36mprocessVideo\u001b[0;34m(videoName, dataName, name)\u001b[0m\n\u001b[1;32m     13\u001b[0m   \u001b[0mframeCtr\u001b[0m \u001b[0;34m=\u001b[0m \u001b[0;36m1\u001b[0m\u001b[0;34m\u001b[0m\u001b[0;34m\u001b[0m\u001b[0m\n\u001b[1;32m     14\u001b[0m   \u001b[0;32mwhile\u001b[0m \u001b[0;34m(\u001b[0m\u001b[0mvidInput\u001b[0m\u001b[0;34m.\u001b[0m\u001b[0misOpened\u001b[0m\u001b[0;34m(\u001b[0m\u001b[0;34m)\u001b[0m\u001b[0;34m)\u001b[0m\u001b[0;34m:\u001b[0m\u001b[0;34m\u001b[0m\u001b[0;34m\u001b[0m\u001b[0m\n\u001b[0;32m---> 15\u001b[0;31m     \u001b[0mreadSuccess\u001b[0m\u001b[0;34m,\u001b[0m \u001b[0mframe\u001b[0m \u001b[0;34m=\u001b[0m \u001b[0mvidInput\u001b[0m\u001b[0;34m.\u001b[0m\u001b[0mread\u001b[0m\u001b[0;34m(\u001b[0m\u001b[0;34m)\u001b[0m\u001b[0;34m\u001b[0m\u001b[0;34m\u001b[0m\u001b[0m\n\u001b[0m\u001b[1;32m     16\u001b[0m \u001b[0;34m\u001b[0m\u001b[0m\n\u001b[1;32m     17\u001b[0m     \u001b[0;32mif\u001b[0m \u001b[0mreadSuccess\u001b[0m\u001b[0;34m:\u001b[0m\u001b[0;34m\u001b[0m\u001b[0;34m\u001b[0m\u001b[0m\n",
            "\u001b[0;31mKeyboardInterrupt\u001b[0m: "
          ]
        }
      ]
    },
    {
      "cell_type": "code",
      "metadata": {
        "id": "Z2mml5HmEVGB",
        "outputId": "589c749f-72dd-4f03-cf8f-befebc547669",
        "colab": {
          "base_uri": "https://localhost:8080/",
          "height": 1000
        }
      },
      "source": [
        "dir = \"/content/gdrive/My Drive/Capstone/Dataset/Jing\"\n",
        "classnames = ['A', 'B', 'C', 'D', 'E', 'F', 'G', 'H', 'I', 'J', 'K', 'L', 'M', 'N', 'O', 'P', 'Q', 'R', 'S', 'T', 'U', 'V', 'W', 'X', 'Y', 'Z', 'del', 'nothing', 'space']\n",
        "\n",
        "for name in classnames:\n",
        "  vidname = dir + \"/\" + name + \".mp4\"\n",
        "  print(vidname)\n",
        "  if not os.path.isfile(vidname):\n",
        "    print(\"Could not locate \" + vidname)\n",
        "    continue\n",
        "  processVideoRot(vidname, name)\n",
        "  print(\"done \" + name)"
      ],
      "execution_count": 41,
      "outputs": [
        {
          "output_type": "stream",
          "text": [
            "/content/gdrive/My Drive/Capstone/Dataset/Jing/A.mp4\n",
            "/content/gdrive/My Drive/Capstone/Dataset/Jing/A.mp4\n",
            "/content/gdrive/My Drive/Capstone/Dataset/combined_set/A/\n",
            "/content/gdrive/My Drive/Capstone/Dataset/combined_set/A/JingA1.png\n",
            "/content/gdrive/My Drive/Capstone/Dataset/combined_set/A/JingA2.png\n",
            "/content/gdrive/My Drive/Capstone/Dataset/combined_set/A/JingA3.png\n",
            "/content/gdrive/My Drive/Capstone/Dataset/combined_set/A/JingA4.png\n",
            "/content/gdrive/My Drive/Capstone/Dataset/combined_set/A/JingA5.png\n",
            "/content/gdrive/My Drive/Capstone/Dataset/combined_set/A/JingA6.png\n",
            "/content/gdrive/My Drive/Capstone/Dataset/combined_set/A/JingA7.png\n",
            "/content/gdrive/My Drive/Capstone/Dataset/combined_set/A/JingA8.png\n",
            "/content/gdrive/My Drive/Capstone/Dataset/combined_set/A/JingA9.png\n",
            "/content/gdrive/My Drive/Capstone/Dataset/combined_set/A/JingA10.png\n",
            "/content/gdrive/My Drive/Capstone/Dataset/combined_set/A/JingA11.png\n",
            "/content/gdrive/My Drive/Capstone/Dataset/combined_set/A/JingA12.png\n",
            "/content/gdrive/My Drive/Capstone/Dataset/combined_set/A/JingA13.png\n",
            "/content/gdrive/My Drive/Capstone/Dataset/combined_set/A/JingA14.png\n",
            "/content/gdrive/My Drive/Capstone/Dataset/combined_set/A/JingA15.png\n",
            "/content/gdrive/My Drive/Capstone/Dataset/combined_set/A/JingA16.png\n",
            "/content/gdrive/My Drive/Capstone/Dataset/combined_set/A/JingA17.png\n",
            "/content/gdrive/My Drive/Capstone/Dataset/combined_set/A/JingA18.png\n",
            "/content/gdrive/My Drive/Capstone/Dataset/combined_set/A/JingA19.png\n",
            "/content/gdrive/My Drive/Capstone/Dataset/combined_set/A/JingA20.png\n",
            "/content/gdrive/My Drive/Capstone/Dataset/combined_set/A/JingA21.png\n",
            "/content/gdrive/My Drive/Capstone/Dataset/combined_set/A/JingA22.png\n",
            "/content/gdrive/My Drive/Capstone/Dataset/combined_set/A/JingA23.png\n",
            "/content/gdrive/My Drive/Capstone/Dataset/combined_set/A/JingA24.png\n",
            "/content/gdrive/My Drive/Capstone/Dataset/combined_set/A/JingA25.png\n",
            "/content/gdrive/My Drive/Capstone/Dataset/combined_set/A/JingA26.png\n",
            "/content/gdrive/My Drive/Capstone/Dataset/combined_set/A/JingA27.png\n",
            "/content/gdrive/My Drive/Capstone/Dataset/combined_set/A/JingA28.png\n",
            "/content/gdrive/My Drive/Capstone/Dataset/combined_set/A/JingA29.png\n",
            "/content/gdrive/My Drive/Capstone/Dataset/combined_set/A/JingA30.png\n",
            "/content/gdrive/My Drive/Capstone/Dataset/combined_set/A/JingA31.png\n",
            "/content/gdrive/My Drive/Capstone/Dataset/combined_set/A/JingA32.png\n",
            "/content/gdrive/My Drive/Capstone/Dataset/combined_set/A/JingA33.png\n",
            "/content/gdrive/My Drive/Capstone/Dataset/combined_set/A/JingA34.png\n",
            "/content/gdrive/My Drive/Capstone/Dataset/combined_set/A/JingA35.png\n",
            "/content/gdrive/My Drive/Capstone/Dataset/combined_set/A/JingA36.png\n",
            "/content/gdrive/My Drive/Capstone/Dataset/combined_set/A/JingA37.png\n",
            "/content/gdrive/My Drive/Capstone/Dataset/combined_set/A/JingA38.png\n",
            "/content/gdrive/My Drive/Capstone/Dataset/combined_set/A/JingA39.png\n",
            "/content/gdrive/My Drive/Capstone/Dataset/combined_set/A/JingA40.png\n",
            "/content/gdrive/My Drive/Capstone/Dataset/combined_set/A/JingA41.png\n",
            "/content/gdrive/My Drive/Capstone/Dataset/combined_set/A/JingA42.png\n",
            "/content/gdrive/My Drive/Capstone/Dataset/combined_set/A/JingA43.png\n",
            "/content/gdrive/My Drive/Capstone/Dataset/combined_set/A/JingA44.png\n",
            "/content/gdrive/My Drive/Capstone/Dataset/combined_set/A/JingA45.png\n",
            "/content/gdrive/My Drive/Capstone/Dataset/combined_set/A/JingA46.png\n",
            "/content/gdrive/My Drive/Capstone/Dataset/combined_set/A/JingA47.png\n",
            "/content/gdrive/My Drive/Capstone/Dataset/combined_set/A/JingA48.png\n",
            "/content/gdrive/My Drive/Capstone/Dataset/combined_set/A/JingA49.png\n",
            "/content/gdrive/My Drive/Capstone/Dataset/combined_set/A/JingA50.png\n",
            "/content/gdrive/My Drive/Capstone/Dataset/combined_set/A/JingA51.png\n",
            "/content/gdrive/My Drive/Capstone/Dataset/combined_set/A/JingA52.png\n",
            "/content/gdrive/My Drive/Capstone/Dataset/combined_set/A/JingA53.png\n",
            "/content/gdrive/My Drive/Capstone/Dataset/combined_set/A/JingA54.png\n",
            "/content/gdrive/My Drive/Capstone/Dataset/combined_set/A/JingA55.png\n",
            "/content/gdrive/My Drive/Capstone/Dataset/combined_set/A/JingA56.png\n",
            "/content/gdrive/My Drive/Capstone/Dataset/combined_set/A/JingA57.png\n",
            "/content/gdrive/My Drive/Capstone/Dataset/combined_set/A/JingA58.png\n",
            "/content/gdrive/My Drive/Capstone/Dataset/combined_set/A/JingA59.png\n",
            "/content/gdrive/My Drive/Capstone/Dataset/combined_set/A/JingA60.png\n",
            "/content/gdrive/My Drive/Capstone/Dataset/combined_set/A/JingA61.png\n",
            "/content/gdrive/My Drive/Capstone/Dataset/combined_set/A/JingA62.png\n",
            "/content/gdrive/My Drive/Capstone/Dataset/combined_set/A/JingA63.png\n",
            "/content/gdrive/My Drive/Capstone/Dataset/combined_set/A/JingA64.png\n",
            "/content/gdrive/My Drive/Capstone/Dataset/combined_set/A/JingA65.png\n",
            "/content/gdrive/My Drive/Capstone/Dataset/combined_set/A/JingA66.png\n"
          ],
          "name": "stdout"
        },
        {
          "output_type": "error",
          "ename": "KeyboardInterrupt",
          "evalue": "ignored",
          "traceback": [
            "\u001b[0;31m---------------------------------------------------------------------------\u001b[0m",
            "\u001b[0;31mKeyboardInterrupt\u001b[0m                         Traceback (most recent call last)",
            "\u001b[0;32m<ipython-input-41-7c482ef14763>\u001b[0m in \u001b[0;36m<module>\u001b[0;34m()\u001b[0m\n\u001b[1;32m      8\u001b[0m     \u001b[0mprint\u001b[0m\u001b[0;34m(\u001b[0m\u001b[0;34m\"Could not locate \"\u001b[0m \u001b[0;34m+\u001b[0m \u001b[0mvidname\u001b[0m\u001b[0;34m)\u001b[0m\u001b[0;34m\u001b[0m\u001b[0;34m\u001b[0m\u001b[0m\n\u001b[1;32m      9\u001b[0m     \u001b[0;32mcontinue\u001b[0m\u001b[0;34m\u001b[0m\u001b[0;34m\u001b[0m\u001b[0m\n\u001b[0;32m---> 10\u001b[0;31m   \u001b[0mprocessVideoRot\u001b[0m\u001b[0;34m(\u001b[0m\u001b[0mvidname\u001b[0m\u001b[0;34m,\u001b[0m \u001b[0mname\u001b[0m\u001b[0;34m)\u001b[0m\u001b[0;34m\u001b[0m\u001b[0;34m\u001b[0m\u001b[0m\n\u001b[0m\u001b[1;32m     11\u001b[0m   \u001b[0mprint\u001b[0m\u001b[0;34m(\u001b[0m\u001b[0;34m\"done \"\u001b[0m \u001b[0;34m+\u001b[0m \u001b[0mname\u001b[0m\u001b[0;34m)\u001b[0m\u001b[0;34m\u001b[0m\u001b[0;34m\u001b[0m\u001b[0m\n",
            "\u001b[0;32m<ipython-input-40-407b38ac4b47>\u001b[0m in \u001b[0;36mprocessVideoRot\u001b[0;34m(videoName, dataName)\u001b[0m\n\u001b[1;32m     19\u001b[0m       \u001b[0msmallframe\u001b[0m \u001b[0;34m=\u001b[0m \u001b[0mcv2\u001b[0m\u001b[0;34m.\u001b[0m\u001b[0mresize\u001b[0m\u001b[0;34m(\u001b[0m\u001b[0mframe\u001b[0m\u001b[0;34m,\u001b[0m \u001b[0;34m(\u001b[0m\u001b[0;36m200\u001b[0m\u001b[0;34m,\u001b[0m \u001b[0;36m200\u001b[0m\u001b[0;34m)\u001b[0m\u001b[0;34m)\u001b[0m\u001b[0;34m\u001b[0m\u001b[0;34m\u001b[0m\u001b[0m\n\u001b[1;32m     20\u001b[0m       \u001b[0mrotframe\u001b[0m \u001b[0;34m=\u001b[0m \u001b[0mcv2\u001b[0m\u001b[0;34m.\u001b[0m\u001b[0mrotate\u001b[0m\u001b[0;34m(\u001b[0m\u001b[0msmallframe\u001b[0m\u001b[0;34m,\u001b[0m \u001b[0mcv2\u001b[0m\u001b[0;34m.\u001b[0m\u001b[0mROTATE_90_CLOCKWISE\u001b[0m\u001b[0;34m)\u001b[0m\u001b[0;34m\u001b[0m\u001b[0;34m\u001b[0m\u001b[0m\n\u001b[0;32m---> 21\u001b[0;31m       \u001b[0;32mif\u001b[0m \u001b[0;32mnot\u001b[0m \u001b[0mcv2\u001b[0m\u001b[0;34m.\u001b[0m\u001b[0mimwrite\u001b[0m\u001b[0;34m(\u001b[0m\u001b[0moutfile\u001b[0m\u001b[0;34m,\u001b[0m \u001b[0mrotframe\u001b[0m\u001b[0;34m)\u001b[0m\u001b[0;34m:\u001b[0m\u001b[0;34m\u001b[0m\u001b[0;34m\u001b[0m\u001b[0m\n\u001b[0m\u001b[1;32m     22\u001b[0m         \u001b[0mprint\u001b[0m\u001b[0;34m(\u001b[0m\u001b[0;34m\"failed to write!\"\u001b[0m\u001b[0;34m)\u001b[0m\u001b[0;34m\u001b[0m\u001b[0;34m\u001b[0m\u001b[0m\n\u001b[1;32m     23\u001b[0m       \u001b[0mframeCtr\u001b[0m \u001b[0;34m+=\u001b[0m \u001b[0;36m1\u001b[0m\u001b[0;34m\u001b[0m\u001b[0;34m\u001b[0m\u001b[0m\n",
            "\u001b[0;31mKeyboardInterrupt\u001b[0m: "
          ]
        }
      ]
    },
    {
      "cell_type": "code",
      "metadata": {
        "id": "AOD8zXj8IaA5",
        "outputId": "29a1d245-9b74-43a8-935b-cac41dd1dbf6",
        "colab": {
          "base_uri": "https://localhost:8080/",
          "height": 401
        }
      },
      "source": [
        "dir = \"/content/gdrive/My Drive/Capstone/Dataset/Max\"\n",
        "classnames = ['A', 'B', 'C', 'D', 'E', 'F', 'G', 'H', 'I', 'J', 'K', 'L', 'M', 'N', 'O', 'P', 'Q', 'R', 'S', 'T', 'U', 'V', 'W', 'X', 'Y', 'Z', 'del', 'nothing', 'space']\n",
        "\n",
        "for name in classnames:\n",
        "  vidname = dir + \"/\" + name + \".mov\"\n",
        "  if not os.path.isfile(vidname):\n",
        "    print(\"Could not locate \" + vidname)\n",
        "    continue\n",
        "  processVideo(vidname, name, \"Max\")\n",
        "  print(\"done \" + name)"
      ],
      "execution_count": 29,
      "outputs": [
        {
          "output_type": "stream",
          "text": [
            "/content/gdrive/My Drive/Capstone/Dataset/Max/A.mov\n",
            "Failed to read frame from video\n",
            "done A\n",
            "/content/gdrive/My Drive/Capstone/Dataset/Max/B.mov\n"
          ],
          "name": "stdout"
        },
        {
          "output_type": "error",
          "ename": "KeyboardInterrupt",
          "evalue": "ignored",
          "traceback": [
            "\u001b[0;31m---------------------------------------------------------------------------\u001b[0m",
            "\u001b[0;31mKeyboardInterrupt\u001b[0m                         Traceback (most recent call last)",
            "\u001b[0;32m<ipython-input-29-1cf3dd4da1ac>\u001b[0m in \u001b[0;36m<module>\u001b[0;34m()\u001b[0m\n\u001b[1;32m      7\u001b[0m     \u001b[0mprint\u001b[0m\u001b[0;34m(\u001b[0m\u001b[0;34m\"Could not locate \"\u001b[0m \u001b[0;34m+\u001b[0m \u001b[0mvidname\u001b[0m\u001b[0;34m)\u001b[0m\u001b[0;34m\u001b[0m\u001b[0;34m\u001b[0m\u001b[0m\n\u001b[1;32m      8\u001b[0m     \u001b[0;32mcontinue\u001b[0m\u001b[0;34m\u001b[0m\u001b[0;34m\u001b[0m\u001b[0m\n\u001b[0;32m----> 9\u001b[0;31m   \u001b[0mprocessVideo\u001b[0m\u001b[0;34m(\u001b[0m\u001b[0mvidname\u001b[0m\u001b[0;34m,\u001b[0m \u001b[0mname\u001b[0m\u001b[0;34m,\u001b[0m \u001b[0;34m\"Max\"\u001b[0m\u001b[0;34m)\u001b[0m\u001b[0;34m\u001b[0m\u001b[0;34m\u001b[0m\u001b[0m\n\u001b[0m\u001b[1;32m     10\u001b[0m   \u001b[0mprint\u001b[0m\u001b[0;34m(\u001b[0m\u001b[0;34m\"done \"\u001b[0m \u001b[0;34m+\u001b[0m \u001b[0mname\u001b[0m\u001b[0;34m)\u001b[0m\u001b[0;34m\u001b[0m\u001b[0;34m\u001b[0m\u001b[0m\n",
            "\u001b[0;32m<ipython-input-28-b92fb2f28c5b>\u001b[0m in \u001b[0;36mprocessVideo\u001b[0;34m(videoName, dataName, name)\u001b[0m\n\u001b[1;32m     14\u001b[0m   \u001b[0mframeCtr\u001b[0m \u001b[0;34m=\u001b[0m \u001b[0;36m1\u001b[0m\u001b[0;34m\u001b[0m\u001b[0;34m\u001b[0m\u001b[0m\n\u001b[1;32m     15\u001b[0m   \u001b[0;32mwhile\u001b[0m \u001b[0;34m(\u001b[0m\u001b[0mvidInput\u001b[0m\u001b[0;34m.\u001b[0m\u001b[0misOpened\u001b[0m\u001b[0;34m(\u001b[0m\u001b[0;34m)\u001b[0m\u001b[0;34m)\u001b[0m\u001b[0;34m:\u001b[0m\u001b[0;34m\u001b[0m\u001b[0;34m\u001b[0m\u001b[0m\n\u001b[0;32m---> 16\u001b[0;31m     \u001b[0mreadSuccess\u001b[0m\u001b[0;34m,\u001b[0m \u001b[0mframe\u001b[0m \u001b[0;34m=\u001b[0m \u001b[0mvidInput\u001b[0m\u001b[0;34m.\u001b[0m\u001b[0mread\u001b[0m\u001b[0;34m(\u001b[0m\u001b[0;34m)\u001b[0m\u001b[0;34m\u001b[0m\u001b[0;34m\u001b[0m\u001b[0m\n\u001b[0m\u001b[1;32m     17\u001b[0m \u001b[0;34m\u001b[0m\u001b[0m\n\u001b[1;32m     18\u001b[0m     \u001b[0;32mif\u001b[0m \u001b[0mreadSuccess\u001b[0m\u001b[0;34m:\u001b[0m\u001b[0;34m\u001b[0m\u001b[0;34m\u001b[0m\u001b[0m\n",
            "\u001b[0;31mKeyboardInterrupt\u001b[0m: "
          ]
        }
      ]
    }
  ]
}