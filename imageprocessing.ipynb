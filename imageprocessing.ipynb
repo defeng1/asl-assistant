{
  "nbformat": 4,
  "nbformat_minor": 0,
  "metadata": {
    "colab": {
      "name": "imageprocessing.ipynb",
      "provenance": [],
      "authorship_tag": "ABX9TyOZ5WLCTwlSLsw3/9PGMnI3",
      "include_colab_link": true
    },
    "kernelspec": {
      "name": "python3",
      "display_name": "Python 3"
    }
  },
  "cells": [
    {
      "cell_type": "markdown",
      "metadata": {
        "id": "view-in-github",
        "colab_type": "text"
      },
      "source": [
        "<a href=\"https://colab.research.google.com/github/defeng1/asl-assistant/blob/back-end/imageprocessing.ipynb\" target=\"_parent\"><img src=\"https://colab.research.google.com/assets/colab-badge.svg\" alt=\"Open In Colab\"/></a>"
      ]
    },
    {
      "cell_type": "code",
      "metadata": {
        "id": "nk6-knAz48rZ",
        "outputId": "ad422ac7-b25a-4747-b384-d1cf59313be9",
        "colab": {
          "base_uri": "https://localhost:8080/"
        }
      },
      "source": [
        "#Imports & First-time Setup\n",
        "import random\n",
        "import numpy as np\n",
        "import os\n",
        "import pathlib\n",
        "import cv2\n",
        "from google.colab import drive\n",
        "\n",
        "drive.mount('/content/gdrive')"
      ],
      "execution_count": 14,
      "outputs": [
        {
          "output_type": "stream",
          "text": [
            "Drive not mounted, so nothing to flush and unmount.\n",
            "Mounted at /content/gdrive\n"
          ],
          "name": "stdout"
        }
      ]
    },
    {
      "cell_type": "code",
      "metadata": {
        "id": "A0Dfc5Kr5pwp"
      },
      "source": [
        "def processVideo(videoName, dataName, name):\n",
        "  vidInput = cv2.VideoCapture(videoName)\n",
        "  outdir = \"/content/gdrive/My Drive/Capstone/Dataset/combined_set\" + \"/\" + dataName + \"/\"\n",
        "  if not os.path.isdir(outdir):\n",
        "    os.mkdir(outdir)\n",
        "\n",
        "  numFrames = int(vidInput.get(cv2.CAP_PROP_FRAME_COUNT))\n",
        "  numFrames -= 40\n",
        "\n",
        "  frameSkip = numFrames / 100\n",
        "  frameSkip = int(frameSkip)\n",
        "\n",
        "  frameCtr = 1\n",
        "  outputCtr = 1\n",
        "\n",
        "  while (vidInput.isOpened()):\n",
        "    readSuccess, frame = vidInput.read()\n",
        "\n",
        "    if readSuccess:\n",
        "      if (frameCtr % frameSkip) == 0:\n",
        "        outfile = outdir + name + dataName + str(outputCtr) + \".png\"\n",
        "        if outputCtr > 100:\n",
        "          break\n",
        "        smallframe = cv2.resize(frame, (200, 200))\n",
        "        if not cv2.imwrite(outfile, smallframe):\n",
        "          print(\"failed to write!\")\n",
        "        outputCtr +=1\n",
        "      frameCtr += 1\n",
        "    else:\n",
        "      print(\"Failed to read frame from video\")\n",
        "      break\n",
        "\n",
        "  vidInput.release() \n",
        "  cv2.destroyAllWindows() "
      ],
      "execution_count": null,
      "outputs": []
    },
    {
      "cell_type": "code",
      "metadata": {
        "id": "mvcXvZdoKYXc"
      },
      "source": [
        "def processVideoRot(videoName, dataName, name):\n",
        "  vidInput = cv2.VideoCapture(videoName)\n",
        "  outdir = \"/content/gdrive/My Drive/Capstone/Dataset/combined_set\" + \"/\" + dataName + \"/\"\n",
        "  if not os.path.isdir(outdir):\n",
        "    os.mkdir(outdir)\n",
        "\n",
        "  numFrames = int(vidInput.get(cv2.CAP_PROP_FRAME_COUNT))\n",
        "  numFrames -= 40\n",
        "\n",
        "  frameSkip = numFrames / 100\n",
        "  frameSkip = int(frameSkip)\n",
        "\n",
        "  frameCtr = 1\n",
        "  outputCtr = 1\n",
        "\n",
        "  while (vidInput.isOpened()):\n",
        "    readSuccess, frame = vidInput.read()\n",
        "\n",
        "    if readSuccess:\n",
        "      if (frameCtr % frameSkip) == 0:\n",
        "        outfile = outdir + name + dataName + str(outputCtr) + \".png\"\n",
        "        if outputCtr > 100:\n",
        "          break\n",
        "        smallframe = cv2.resize(frame, (200, 200))\n",
        "        rotframe = cv2.rotate(smallframe, cv2.ROTATE_90_CLOCKWISE)\n",
        "        if not cv2.imwrite(outfile, rotframe):\n",
        "          print(\"failed to write!\")\n",
        "        outputCtr +=1\n",
        "      frameCtr += 1\n",
        "    else:\n",
        "      print(\"Failed to read frame from video\")\n",
        "      break\n",
        "\n",
        "  vidInput.release() \n",
        "  cv2.destroyAllWindows() "
      ],
      "execution_count": null,
      "outputs": []
    },
    {
      "cell_type": "code",
      "metadata": {
        "id": "JaESlHD47llD"
      },
      "source": [
        "def processVideoTest(videoName, dataName, name):\n",
        "  vidInput = cv2.VideoCapture(videoName)\n",
        "  outdir = \"/content/gdrive/My Drive/Capstone/Dataset/test_set\" + \"/\" + dataName + \"/\"\n",
        "  if not os.path.isdir(outdir):\n",
        "    os.mkdir(outdir)\n",
        "\n",
        "  numFrames = int(vidInput.get(cv2.CAP_PROP_FRAME_COUNT))\n",
        "  numFrames -= 40\n",
        "\n",
        "  frameSkip = numFrames / 100\n",
        "  frameSkip = int(frameSkip)\n",
        "\n",
        "  frameCtr = 1\n",
        "  outputCtr = 1\n",
        "\n",
        "  while (vidInput.isOpened()):\n",
        "    readSuccess, frame = vidInput.read()\n",
        "\n",
        "    if readSuccess:\n",
        "      if (frameCtr % frameSkip) == 0:\n",
        "        outfile = outdir + name + dataName + str(outputCtr) + \".png\"\n",
        "        if outputCtr > 100:\n",
        "          break\n",
        "        smallframe = cv2.resize(frame, (200, 200))\n",
        "        if not cv2.imwrite(outfile, smallframe):\n",
        "          print(\"failed to write!\")\n",
        "        outputCtr +=1\n",
        "      frameCtr += 1\n",
        "    else:\n",
        "      print(\"Failed to read frame from video\")\n",
        "      break\n",
        "\n",
        "  vidInput.release() \n",
        "  cv2.destroyAllWindows() "
      ],
      "execution_count": 3,
      "outputs": []
    },
    {
      "cell_type": "code",
      "metadata": {
        "id": "-27eKC3s7qrJ"
      },
      "source": [
        "def processVideoRotTest(videoName, dataName, name):\n",
        "  vidInput = cv2.VideoCapture(videoName)\n",
        "  outdir = \"/content/gdrive/My Drive/Capstone/Dataset/test_set\" + \"/\" + dataName + \"/\"\n",
        "  if not os.path.isdir(outdir):\n",
        "    os.mkdir(outdir)\n",
        "\n",
        "  numFrames = int(vidInput.get(cv2.CAP_PROP_FRAME_COUNT))\n",
        "  numFrames -= 40\n",
        "\n",
        "  frameSkip = numFrames / 100\n",
        "  frameSkip = int(frameSkip)\n",
        "\n",
        "  frameCtr = 1\n",
        "  outputCtr = 1\n",
        "\n",
        "  while (vidInput.isOpened()):\n",
        "    readSuccess, frame = vidInput.read()\n",
        "\n",
        "    if readSuccess:\n",
        "      if (frameCtr % frameSkip) == 0:\n",
        "        outfile = outdir + name + dataName + str(outputCtr) + \".png\"\n",
        "        if outputCtr > 100:\n",
        "          break\n",
        "        smallframe = cv2.resize(frame, (200, 200))\n",
        "        rotframe = cv2.rotate(smallframe, cv2.ROTATE_90_CLOCKWISE)\n",
        "        if not cv2.imwrite(outfile, rotframe):\n",
        "          print(\"failed to write!\")\n",
        "        outputCtr +=1\n",
        "      frameCtr += 1\n",
        "    else:\n",
        "      print(\"Failed to read frame from video\")\n",
        "      break\n",
        "\n",
        "  vidInput.release() \n",
        "  cv2.destroyAllWindows() "
      ],
      "execution_count": 4,
      "outputs": []
    },
    {
      "cell_type": "code",
      "metadata": {
        "id": "HbryeKmeWyKZ",
        "outputId": "683daf0c-9bd9-419c-d894-445900efe09e",
        "colab": {
          "base_uri": "https://localhost:8080/"
        }
      },
      "source": [
        "import glob\n",
        "dir = \"/content/gdrive/My Drive/Capstone/Dataset/test_set/\"\n",
        "classnames = ['A', 'B', 'C', 'D', 'E', 'F', 'G', 'H', 'I', 'J', 'K', 'L', 'M', 'N', 'O', 'P', 'Q', 'R', 'S', 'T', 'U', 'V', 'W', 'X', 'Y', 'Z', 'del', 'nothing', 'space']\n",
        "for name in classnames:\n",
        "  letter_dir = dir + name + \"/\"\n",
        "  data_files = glob.glob(letter_dir + \"/*\")\n",
        "  for data_file in data_files:\n",
        "    eval_img = cv2.imread(data_file)\n",
        "    eval_img = cv2.resize(eval_img, (200, 200))\n",
        "    if cv2.imwrite(data_file, eval_img):\n",
        "      print(\"wrote \" + str(data_file))\n",
        "    else:\n",
        "      print(\"failed to write!\")"
      ],
      "execution_count": null,
      "outputs": [
        {
          "output_type": "stream",
          "text": [
            "wrote /content/gdrive/My Drive/Capstone/Dataset/test_set/A/IMG_9862.JPG\n",
            "wrote /content/gdrive/My Drive/Capstone/Dataset/test_set/K/IMG_4099.JPG\n",
            "wrote /content/gdrive/My Drive/Capstone/Dataset/test_set/Y/20201101_144138.jpg\n"
          ],
          "name": "stdout"
        }
      ]
    },
    {
      "cell_type": "code",
      "metadata": {
        "id": "GhHwsUjKCcua",
        "outputId": "208d8dfc-8724-4101-c4a8-eda6f559bf4e",
        "colab": {
          "base_uri": "https://localhost:8080/",
          "height": 231
        }
      },
      "source": [
        "dir = \"/content/gdrive/My Drive/Capstone/Dataset/Jing\"\n",
        "classnames = ['A', 'B', 'C', 'D', 'E', 'F', 'G', 'H', 'I', 'J', 'K', 'L', 'M', 'N', 'O', 'P', 'Q', 'R', 'S', 'T', 'U', 'V', 'W', 'X', 'Y', 'Z', 'del', 'nothing', 'space']\n",
        "\n",
        "for name in classnames:\n",
        "  vidname = dir + \"/\" + name + \"3.mp4\"\n",
        "  if not os.path.isfile(vidname):\n",
        "    print(\"Could not locate \" + vidname)\n",
        "    continue\n",
        "  processVideoRot(vidname, name, \"Jing3\")\n",
        "  print(\"done \" + name)"
      ],
      "execution_count": 1,
      "outputs": [
        {
          "output_type": "error",
          "ename": "NameError",
          "evalue": "ignored",
          "traceback": [
            "\u001b[0;31m---------------------------------------------------------------------------\u001b[0m",
            "\u001b[0;31mNameError\u001b[0m                                 Traceback (most recent call last)",
            "\u001b[0;32m<ipython-input-1-7756e1f0545f>\u001b[0m in \u001b[0;36m<module>\u001b[0;34m()\u001b[0m\n\u001b[1;32m      4\u001b[0m \u001b[0;32mfor\u001b[0m \u001b[0mname\u001b[0m \u001b[0;32min\u001b[0m \u001b[0mclassnames\u001b[0m\u001b[0;34m:\u001b[0m\u001b[0;34m\u001b[0m\u001b[0;34m\u001b[0m\u001b[0m\n\u001b[1;32m      5\u001b[0m   \u001b[0mvidname\u001b[0m \u001b[0;34m=\u001b[0m \u001b[0mdir\u001b[0m \u001b[0;34m+\u001b[0m \u001b[0;34m\"/\"\u001b[0m \u001b[0;34m+\u001b[0m \u001b[0mname\u001b[0m \u001b[0;34m+\u001b[0m \u001b[0;34m\"3.mp4\"\u001b[0m\u001b[0;34m\u001b[0m\u001b[0;34m\u001b[0m\u001b[0m\n\u001b[0;32m----> 6\u001b[0;31m   \u001b[0;32mif\u001b[0m \u001b[0;32mnot\u001b[0m \u001b[0mos\u001b[0m\u001b[0;34m.\u001b[0m\u001b[0mpath\u001b[0m\u001b[0;34m.\u001b[0m\u001b[0misfile\u001b[0m\u001b[0;34m(\u001b[0m\u001b[0mvidname\u001b[0m\u001b[0;34m)\u001b[0m\u001b[0;34m:\u001b[0m\u001b[0;34m\u001b[0m\u001b[0;34m\u001b[0m\u001b[0m\n\u001b[0m\u001b[1;32m      7\u001b[0m     \u001b[0mprint\u001b[0m\u001b[0;34m(\u001b[0m\u001b[0;34m\"Could not locate \"\u001b[0m \u001b[0;34m+\u001b[0m \u001b[0mvidname\u001b[0m\u001b[0;34m)\u001b[0m\u001b[0;34m\u001b[0m\u001b[0;34m\u001b[0m\u001b[0m\n\u001b[1;32m      8\u001b[0m     \u001b[0;32mcontinue\u001b[0m\u001b[0;34m\u001b[0m\u001b[0;34m\u001b[0m\u001b[0m\n",
            "\u001b[0;31mNameError\u001b[0m: name 'os' is not defined"
          ]
        }
      ]
    },
    {
      "cell_type": "code",
      "metadata": {
        "id": "AOD8zXj8IaA5"
      },
      "source": [
        "dir = \"/content/gdrive/My Drive/Capstone/Dataset/Max\"\n",
        "classnames = ['A', 'B', 'C', 'D', 'E', 'F', 'G', 'H', 'I', 'J', 'K', 'L', 'M', 'N', 'O', 'P', 'Q', 'R', 'S', 'T', 'U', 'V', 'W', 'X', 'Y', 'Z', 'del', 'nothing', 'space']\n",
        "\n",
        "for name in classnames:\n",
        "  vidname = dir + \"/\" + name + \"2.mp4\"\n",
        "  if not os.path.isfile(vidname):\n",
        "    print(\"Could not locate \" + vidname)\n",
        "    continue\n",
        "  processVideo(vidname, name, \"Max3\")\n",
        "  print(\"done \" + name)"
      ],
      "execution_count": null,
      "outputs": []
    },
    {
      "cell_type": "code",
      "metadata": {
        "id": "jJFo1Pav7Cie",
        "outputId": "664c306f-68ef-4f46-d810-f7da3b1f2971",
        "colab": {
          "base_uri": "https://localhost:8080/"
        }
      },
      "source": [
        "#Constructing test set\n",
        "dir = \"/content/gdrive/My Drive/Capstone/Dataset/Max\"\n",
        "# classnames = ['A', 'B', 'C', 'D', 'E', 'F', 'G', 'H', 'I', 'J', 'K', 'L', 'M', 'N', 'O', 'P', 'Q', 'R', 'S', 'T', 'U', 'V', 'W', 'X', 'Y', 'Z', 'del', 'nothing', 'space']\n",
        "classnames = [\"del\"]\n",
        "for name in classnames:\n",
        "  vidname = dir + \"/\" + name + \"2.mp4\"\n",
        "  if not os.path.isfile(vidname):\n",
        "    print(\"Could not locate \" + vidname)\n",
        "    continue\n",
        "  processVideoTest(vidname, name, \"Max\")\n",
        "  print(\"done \" + name)"
      ],
      "execution_count": 10,
      "outputs": [
        {
          "output_type": "stream",
          "text": [
            "Could not locate /content/gdrive/My Drive/Capstone/Dataset/Max/del2.mp4\n"
          ],
          "name": "stdout"
        }
      ]
    }
  ]
}